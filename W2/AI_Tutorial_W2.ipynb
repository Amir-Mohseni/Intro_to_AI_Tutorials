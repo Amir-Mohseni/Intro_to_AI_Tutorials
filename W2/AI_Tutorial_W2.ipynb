{
  "nbformat": 4,
  "nbformat_minor": 0,
  "metadata": {
    "colab": {
      "provenance": [],
      "gpuType": "T4"
    },
    "kernelspec": {
      "name": "python3",
      "display_name": "Python 3"
    },
    "language_info": {
      "name": "python"
    },
    "accelerator": "GPU"
  },
  "cells": [
    {
      "cell_type": "markdown",
      "source": [
        "# Intro to AI Tutorial - Week 2\n",
        "## Amir Mohseni - i6356969"
      ],
      "metadata": {
        "id": "x31H8WialIe0"
      }
    },
    {
      "cell_type": "markdown",
      "source": [
        "This notebook is part of the ongoing Introduction to AI tutorial series. It builds on the material covered in the tutorial from last week, where we explored logistic regression models for predicting accidents and heart attacks using various features like alertness, hypertension, and others. You can view the previous notebook here: [Intro to AI Tutorials - Week 1](https://github.com/Amir-Mohseni/Intro_to_AI_Tutorials/blob/main/W1/AI_Tutorial_W1.ipynb)"
      ],
      "metadata": {
        "id": "unIqr-opMdhf"
      }
    },
    {
      "cell_type": "markdown",
      "source": [
        "# 1. Read the data"
      ],
      "metadata": {
        "id": "NfL9FSQ3l4d6"
      }
    },
    {
      "cell_type": "code",
      "execution_count": 1,
      "metadata": {
        "id": "027r-Xod1z1E"
      },
      "outputs": [],
      "source": [
        "import pandas as pd\n",
        "\n",
        "# Convert to df\n",
        "train_set = pd.read_csv('/content/set2_500_patients.csv')\n",
        "test_set = pd.read_excel('/content/set3_500_patients.xlsx')"
      ]
    },
    {
      "cell_type": "markdown",
      "source": [
        "## Formatting the data"
      ],
      "metadata": {
        "id": "zJVYn4hvl67Z"
      }
    },
    {
      "cell_type": "code",
      "source": [
        "boolean_columns = ['accident', 'heart_attack']\n",
        "action_mapping = {\n",
        "    'coffee': 0,\n",
        "    'sleep': 1,\n",
        "    'alcohol': 2,\n",
        "    'nothing': 3,\n",
        "    'work': 4,\n",
        "    'patient died': 5\n",
        "}\n",
        "\n",
        "\n",
        "for df in [train_set, test_set]:\n",
        "  df.drop('Unnamed: 0', axis=1, errors='ignore', inplace=True)  # Drop 'Unnamed: 0' if it exists\n",
        "  df['action'] = df['action'].map(action_mapping)  # Apply the mapping to the 'action' column\n",
        "\n",
        "  \"\"\"\n",
        "  # One-hot encoding\n",
        "  df_one_hot = pd.get_dummies(df['action'], prefix='action')\n",
        "  df = df.join(df_one_hot)  # Join the one-hot encoded columns to the original DataFrame\n",
        "  df.drop('action', axis=1, inplace=True)  # Optionally drop the original 'action' column\n",
        "  \"\"\"\n",
        "  # Convert boolean columns to 0 and 1\n",
        "  for col in boolean_columns:\n",
        "      df[col] = df[col].apply(lambda x: 1 if x is True else 0)"
      ],
      "metadata": {
        "id": "67bMuMGE2jEJ"
      },
      "execution_count": 2,
      "outputs": []
    },
    {
      "cell_type": "code",
      "source": [
        "len(train_set)"
      ],
      "metadata": {
        "colab": {
          "base_uri": "https://localhost:8080/",
          "height": 0
        },
        "id": "m3S0Q_8g49w9",
        "outputId": "626dc705-0c1b-4d36-b658-042796932518"
      },
      "execution_count": 3,
      "outputs": [
        {
          "output_type": "execute_result",
          "data": {
            "text/plain": [
              "344065"
            ]
          },
          "metadata": {},
          "execution_count": 3
        }
      ]
    },
    {
      "cell_type": "code",
      "source": [
        "train_set.head()"
      ],
      "metadata": {
        "colab": {
          "base_uri": "https://localhost:8080/",
          "height": 206
        },
        "id": "fDZt-Wap2NpB",
        "outputId": "b1d0a207-9b6f-4b0d-9a89-2db9e5cb223a"
      },
      "execution_count": 4,
      "outputs": [
        {
          "output_type": "execute_result",
          "data": {
            "text/plain": [
              "   day  hour  action  alertness  hypertension  intoxication  heart_attack  \\\n",
              "0    0     0       0   1.394465      0.114070           0.0             0   \n",
              "1    0     1       1   0.774357      0.067966           0.0             0   \n",
              "2    0     2       1   1.281268      0.040496           0.0             0   \n",
              "3    0     3       1   1.123732      0.024128           0.0             0   \n",
              "4    0     4       1   1.247691      0.014376           0.0             0   \n",
              "\n",
              "   accident    smoker  overweight  family_history  goof_ball  subject  \n",
              "0         0  0.671647    0.730691        0.322668   0.653565        0  \n",
              "1         0  0.671647    0.730691        0.322668   0.653565        0  \n",
              "2         0  0.671647    0.730691        0.322668   0.653565        0  \n",
              "3         0  0.671647    0.730691        0.322668   0.653565        0  \n",
              "4         0  0.671647    0.730691        0.322668   0.653565        0  "
            ],
            "text/html": [
              "\n",
              "  <div id=\"df-ad23c4e2-7ca2-48f2-8eb9-d0dcfbddae8d\" class=\"colab-df-container\">\n",
              "    <div>\n",
              "<style scoped>\n",
              "    .dataframe tbody tr th:only-of-type {\n",
              "        vertical-align: middle;\n",
              "    }\n",
              "\n",
              "    .dataframe tbody tr th {\n",
              "        vertical-align: top;\n",
              "    }\n",
              "\n",
              "    .dataframe thead th {\n",
              "        text-align: right;\n",
              "    }\n",
              "</style>\n",
              "<table border=\"1\" class=\"dataframe\">\n",
              "  <thead>\n",
              "    <tr style=\"text-align: right;\">\n",
              "      <th></th>\n",
              "      <th>day</th>\n",
              "      <th>hour</th>\n",
              "      <th>action</th>\n",
              "      <th>alertness</th>\n",
              "      <th>hypertension</th>\n",
              "      <th>intoxication</th>\n",
              "      <th>heart_attack</th>\n",
              "      <th>accident</th>\n",
              "      <th>smoker</th>\n",
              "      <th>overweight</th>\n",
              "      <th>family_history</th>\n",
              "      <th>goof_ball</th>\n",
              "      <th>subject</th>\n",
              "    </tr>\n",
              "  </thead>\n",
              "  <tbody>\n",
              "    <tr>\n",
              "      <th>0</th>\n",
              "      <td>0</td>\n",
              "      <td>0</td>\n",
              "      <td>0</td>\n",
              "      <td>1.394465</td>\n",
              "      <td>0.114070</td>\n",
              "      <td>0.0</td>\n",
              "      <td>0</td>\n",
              "      <td>0</td>\n",
              "      <td>0.671647</td>\n",
              "      <td>0.730691</td>\n",
              "      <td>0.322668</td>\n",
              "      <td>0.653565</td>\n",
              "      <td>0</td>\n",
              "    </tr>\n",
              "    <tr>\n",
              "      <th>1</th>\n",
              "      <td>0</td>\n",
              "      <td>1</td>\n",
              "      <td>1</td>\n",
              "      <td>0.774357</td>\n",
              "      <td>0.067966</td>\n",
              "      <td>0.0</td>\n",
              "      <td>0</td>\n",
              "      <td>0</td>\n",
              "      <td>0.671647</td>\n",
              "      <td>0.730691</td>\n",
              "      <td>0.322668</td>\n",
              "      <td>0.653565</td>\n",
              "      <td>0</td>\n",
              "    </tr>\n",
              "    <tr>\n",
              "      <th>2</th>\n",
              "      <td>0</td>\n",
              "      <td>2</td>\n",
              "      <td>1</td>\n",
              "      <td>1.281268</td>\n",
              "      <td>0.040496</td>\n",
              "      <td>0.0</td>\n",
              "      <td>0</td>\n",
              "      <td>0</td>\n",
              "      <td>0.671647</td>\n",
              "      <td>0.730691</td>\n",
              "      <td>0.322668</td>\n",
              "      <td>0.653565</td>\n",
              "      <td>0</td>\n",
              "    </tr>\n",
              "    <tr>\n",
              "      <th>3</th>\n",
              "      <td>0</td>\n",
              "      <td>3</td>\n",
              "      <td>1</td>\n",
              "      <td>1.123732</td>\n",
              "      <td>0.024128</td>\n",
              "      <td>0.0</td>\n",
              "      <td>0</td>\n",
              "      <td>0</td>\n",
              "      <td>0.671647</td>\n",
              "      <td>0.730691</td>\n",
              "      <td>0.322668</td>\n",
              "      <td>0.653565</td>\n",
              "      <td>0</td>\n",
              "    </tr>\n",
              "    <tr>\n",
              "      <th>4</th>\n",
              "      <td>0</td>\n",
              "      <td>4</td>\n",
              "      <td>1</td>\n",
              "      <td>1.247691</td>\n",
              "      <td>0.014376</td>\n",
              "      <td>0.0</td>\n",
              "      <td>0</td>\n",
              "      <td>0</td>\n",
              "      <td>0.671647</td>\n",
              "      <td>0.730691</td>\n",
              "      <td>0.322668</td>\n",
              "      <td>0.653565</td>\n",
              "      <td>0</td>\n",
              "    </tr>\n",
              "  </tbody>\n",
              "</table>\n",
              "</div>\n",
              "    <div class=\"colab-df-buttons\">\n",
              "\n",
              "  <div class=\"colab-df-container\">\n",
              "    <button class=\"colab-df-convert\" onclick=\"convertToInteractive('df-ad23c4e2-7ca2-48f2-8eb9-d0dcfbddae8d')\"\n",
              "            title=\"Convert this dataframe to an interactive table.\"\n",
              "            style=\"display:none;\">\n",
              "\n",
              "  <svg xmlns=\"http://www.w3.org/2000/svg\" height=\"24px\" viewBox=\"0 -960 960 960\">\n",
              "    <path d=\"M120-120v-720h720v720H120Zm60-500h600v-160H180v160Zm220 220h160v-160H400v160Zm0 220h160v-160H400v160ZM180-400h160v-160H180v160Zm440 0h160v-160H620v160ZM180-180h160v-160H180v160Zm440 0h160v-160H620v160Z\"/>\n",
              "  </svg>\n",
              "    </button>\n",
              "\n",
              "  <style>\n",
              "    .colab-df-container {\n",
              "      display:flex;\n",
              "      gap: 12px;\n",
              "    }\n",
              "\n",
              "    .colab-df-convert {\n",
              "      background-color: #E8F0FE;\n",
              "      border: none;\n",
              "      border-radius: 50%;\n",
              "      cursor: pointer;\n",
              "      display: none;\n",
              "      fill: #1967D2;\n",
              "      height: 32px;\n",
              "      padding: 0 0 0 0;\n",
              "      width: 32px;\n",
              "    }\n",
              "\n",
              "    .colab-df-convert:hover {\n",
              "      background-color: #E2EBFA;\n",
              "      box-shadow: 0px 1px 2px rgba(60, 64, 67, 0.3), 0px 1px 3px 1px rgba(60, 64, 67, 0.15);\n",
              "      fill: #174EA6;\n",
              "    }\n",
              "\n",
              "    .colab-df-buttons div {\n",
              "      margin-bottom: 4px;\n",
              "    }\n",
              "\n",
              "    [theme=dark] .colab-df-convert {\n",
              "      background-color: #3B4455;\n",
              "      fill: #D2E3FC;\n",
              "    }\n",
              "\n",
              "    [theme=dark] .colab-df-convert:hover {\n",
              "      background-color: #434B5C;\n",
              "      box-shadow: 0px 1px 3px 1px rgba(0, 0, 0, 0.15);\n",
              "      filter: drop-shadow(0px 1px 2px rgba(0, 0, 0, 0.3));\n",
              "      fill: #FFFFFF;\n",
              "    }\n",
              "  </style>\n",
              "\n",
              "    <script>\n",
              "      const buttonEl =\n",
              "        document.querySelector('#df-ad23c4e2-7ca2-48f2-8eb9-d0dcfbddae8d button.colab-df-convert');\n",
              "      buttonEl.style.display =\n",
              "        google.colab.kernel.accessAllowed ? 'block' : 'none';\n",
              "\n",
              "      async function convertToInteractive(key) {\n",
              "        const element = document.querySelector('#df-ad23c4e2-7ca2-48f2-8eb9-d0dcfbddae8d');\n",
              "        const dataTable =\n",
              "          await google.colab.kernel.invokeFunction('convertToInteractive',\n",
              "                                                    [key], {});\n",
              "        if (!dataTable) return;\n",
              "\n",
              "        const docLinkHtml = 'Like what you see? Visit the ' +\n",
              "          '<a target=\"_blank\" href=https://colab.research.google.com/notebooks/data_table.ipynb>data table notebook</a>'\n",
              "          + ' to learn more about interactive tables.';\n",
              "        element.innerHTML = '';\n",
              "        dataTable['output_type'] = 'display_data';\n",
              "        await google.colab.output.renderOutput(dataTable, element);\n",
              "        const docLink = document.createElement('div');\n",
              "        docLink.innerHTML = docLinkHtml;\n",
              "        element.appendChild(docLink);\n",
              "      }\n",
              "    </script>\n",
              "  </div>\n",
              "\n",
              "\n",
              "<div id=\"df-3e074477-c18b-4003-8a96-a1bdd72b5107\">\n",
              "  <button class=\"colab-df-quickchart\" onclick=\"quickchart('df-3e074477-c18b-4003-8a96-a1bdd72b5107')\"\n",
              "            title=\"Suggest charts\"\n",
              "            style=\"display:none;\">\n",
              "\n",
              "<svg xmlns=\"http://www.w3.org/2000/svg\" height=\"24px\"viewBox=\"0 0 24 24\"\n",
              "     width=\"24px\">\n",
              "    <g>\n",
              "        <path d=\"M19 3H5c-1.1 0-2 .9-2 2v14c0 1.1.9 2 2 2h14c1.1 0 2-.9 2-2V5c0-1.1-.9-2-2-2zM9 17H7v-7h2v7zm4 0h-2V7h2v10zm4 0h-2v-4h2v4z\"/>\n",
              "    </g>\n",
              "</svg>\n",
              "  </button>\n",
              "\n",
              "<style>\n",
              "  .colab-df-quickchart {\n",
              "      --bg-color: #E8F0FE;\n",
              "      --fill-color: #1967D2;\n",
              "      --hover-bg-color: #E2EBFA;\n",
              "      --hover-fill-color: #174EA6;\n",
              "      --disabled-fill-color: #AAA;\n",
              "      --disabled-bg-color: #DDD;\n",
              "  }\n",
              "\n",
              "  [theme=dark] .colab-df-quickchart {\n",
              "      --bg-color: #3B4455;\n",
              "      --fill-color: #D2E3FC;\n",
              "      --hover-bg-color: #434B5C;\n",
              "      --hover-fill-color: #FFFFFF;\n",
              "      --disabled-bg-color: #3B4455;\n",
              "      --disabled-fill-color: #666;\n",
              "  }\n",
              "\n",
              "  .colab-df-quickchart {\n",
              "    background-color: var(--bg-color);\n",
              "    border: none;\n",
              "    border-radius: 50%;\n",
              "    cursor: pointer;\n",
              "    display: none;\n",
              "    fill: var(--fill-color);\n",
              "    height: 32px;\n",
              "    padding: 0;\n",
              "    width: 32px;\n",
              "  }\n",
              "\n",
              "  .colab-df-quickchart:hover {\n",
              "    background-color: var(--hover-bg-color);\n",
              "    box-shadow: 0 1px 2px rgba(60, 64, 67, 0.3), 0 1px 3px 1px rgba(60, 64, 67, 0.15);\n",
              "    fill: var(--button-hover-fill-color);\n",
              "  }\n",
              "\n",
              "  .colab-df-quickchart-complete:disabled,\n",
              "  .colab-df-quickchart-complete:disabled:hover {\n",
              "    background-color: var(--disabled-bg-color);\n",
              "    fill: var(--disabled-fill-color);\n",
              "    box-shadow: none;\n",
              "  }\n",
              "\n",
              "  .colab-df-spinner {\n",
              "    border: 2px solid var(--fill-color);\n",
              "    border-color: transparent;\n",
              "    border-bottom-color: var(--fill-color);\n",
              "    animation:\n",
              "      spin 1s steps(1) infinite;\n",
              "  }\n",
              "\n",
              "  @keyframes spin {\n",
              "    0% {\n",
              "      border-color: transparent;\n",
              "      border-bottom-color: var(--fill-color);\n",
              "      border-left-color: var(--fill-color);\n",
              "    }\n",
              "    20% {\n",
              "      border-color: transparent;\n",
              "      border-left-color: var(--fill-color);\n",
              "      border-top-color: var(--fill-color);\n",
              "    }\n",
              "    30% {\n",
              "      border-color: transparent;\n",
              "      border-left-color: var(--fill-color);\n",
              "      border-top-color: var(--fill-color);\n",
              "      border-right-color: var(--fill-color);\n",
              "    }\n",
              "    40% {\n",
              "      border-color: transparent;\n",
              "      border-right-color: var(--fill-color);\n",
              "      border-top-color: var(--fill-color);\n",
              "    }\n",
              "    60% {\n",
              "      border-color: transparent;\n",
              "      border-right-color: var(--fill-color);\n",
              "    }\n",
              "    80% {\n",
              "      border-color: transparent;\n",
              "      border-right-color: var(--fill-color);\n",
              "      border-bottom-color: var(--fill-color);\n",
              "    }\n",
              "    90% {\n",
              "      border-color: transparent;\n",
              "      border-bottom-color: var(--fill-color);\n",
              "    }\n",
              "  }\n",
              "</style>\n",
              "\n",
              "  <script>\n",
              "    async function quickchart(key) {\n",
              "      const quickchartButtonEl =\n",
              "        document.querySelector('#' + key + ' button');\n",
              "      quickchartButtonEl.disabled = true;  // To prevent multiple clicks.\n",
              "      quickchartButtonEl.classList.add('colab-df-spinner');\n",
              "      try {\n",
              "        const charts = await google.colab.kernel.invokeFunction(\n",
              "            'suggestCharts', [key], {});\n",
              "      } catch (error) {\n",
              "        console.error('Error during call to suggestCharts:', error);\n",
              "      }\n",
              "      quickchartButtonEl.classList.remove('colab-df-spinner');\n",
              "      quickchartButtonEl.classList.add('colab-df-quickchart-complete');\n",
              "    }\n",
              "    (() => {\n",
              "      let quickchartButtonEl =\n",
              "        document.querySelector('#df-3e074477-c18b-4003-8a96-a1bdd72b5107 button');\n",
              "      quickchartButtonEl.style.display =\n",
              "        google.colab.kernel.accessAllowed ? 'block' : 'none';\n",
              "    })();\n",
              "  </script>\n",
              "</div>\n",
              "\n",
              "    </div>\n",
              "  </div>\n"
            ],
            "application/vnd.google.colaboratory.intrinsic+json": {
              "type": "dataframe",
              "variable_name": "train_set"
            }
          },
          "metadata": {},
          "execution_count": 4
        }
      ]
    },
    {
      "cell_type": "code",
      "source": [
        "test_set.head()"
      ],
      "metadata": {
        "colab": {
          "base_uri": "https://localhost:8080/",
          "height": 206
        },
        "id": "g6GROUQB2fFi",
        "outputId": "0349e10b-9e50-4c2e-9e09-e7feccbdb217"
      },
      "execution_count": 5,
      "outputs": [
        {
          "output_type": "execute_result",
          "data": {
            "text/plain": [
              "   day  hour  action  alertness  hypertension  intoxication  heart_attack  \\\n",
              "0    0     0       4   1.127998      0.000000       0.00000             0   \n",
              "1    0     1       1   0.819486      0.000000       0.00000             0   \n",
              "2    0     2       1   0.685674      0.000000       0.00000             0   \n",
              "3    0     3       1   1.147203      0.000000       0.00000             0   \n",
              "4    0     4       2   1.121604      0.236082       0.01741             0   \n",
              "\n",
              "   accident    smoker  overweight  family_history  goof_ball  subject  \n",
              "0         0  0.708133    0.838291        0.300351   0.920894        0  \n",
              "1         0  0.708133    0.838291        0.300351   0.920894        0  \n",
              "2         0  0.708133    0.838291        0.300351   0.920894        0  \n",
              "3         0  0.708133    0.838291        0.300351   0.920894        0  \n",
              "4         0  0.708133    0.838291        0.300351   0.920894        0  "
            ],
            "text/html": [
              "\n",
              "  <div id=\"df-aa481074-8541-4bd4-8370-b20a44dcd1bc\" class=\"colab-df-container\">\n",
              "    <div>\n",
              "<style scoped>\n",
              "    .dataframe tbody tr th:only-of-type {\n",
              "        vertical-align: middle;\n",
              "    }\n",
              "\n",
              "    .dataframe tbody tr th {\n",
              "        vertical-align: top;\n",
              "    }\n",
              "\n",
              "    .dataframe thead th {\n",
              "        text-align: right;\n",
              "    }\n",
              "</style>\n",
              "<table border=\"1\" class=\"dataframe\">\n",
              "  <thead>\n",
              "    <tr style=\"text-align: right;\">\n",
              "      <th></th>\n",
              "      <th>day</th>\n",
              "      <th>hour</th>\n",
              "      <th>action</th>\n",
              "      <th>alertness</th>\n",
              "      <th>hypertension</th>\n",
              "      <th>intoxication</th>\n",
              "      <th>heart_attack</th>\n",
              "      <th>accident</th>\n",
              "      <th>smoker</th>\n",
              "      <th>overweight</th>\n",
              "      <th>family_history</th>\n",
              "      <th>goof_ball</th>\n",
              "      <th>subject</th>\n",
              "    </tr>\n",
              "  </thead>\n",
              "  <tbody>\n",
              "    <tr>\n",
              "      <th>0</th>\n",
              "      <td>0</td>\n",
              "      <td>0</td>\n",
              "      <td>4</td>\n",
              "      <td>1.127998</td>\n",
              "      <td>0.000000</td>\n",
              "      <td>0.00000</td>\n",
              "      <td>0</td>\n",
              "      <td>0</td>\n",
              "      <td>0.708133</td>\n",
              "      <td>0.838291</td>\n",
              "      <td>0.300351</td>\n",
              "      <td>0.920894</td>\n",
              "      <td>0</td>\n",
              "    </tr>\n",
              "    <tr>\n",
              "      <th>1</th>\n",
              "      <td>0</td>\n",
              "      <td>1</td>\n",
              "      <td>1</td>\n",
              "      <td>0.819486</td>\n",
              "      <td>0.000000</td>\n",
              "      <td>0.00000</td>\n",
              "      <td>0</td>\n",
              "      <td>0</td>\n",
              "      <td>0.708133</td>\n",
              "      <td>0.838291</td>\n",
              "      <td>0.300351</td>\n",
              "      <td>0.920894</td>\n",
              "      <td>0</td>\n",
              "    </tr>\n",
              "    <tr>\n",
              "      <th>2</th>\n",
              "      <td>0</td>\n",
              "      <td>2</td>\n",
              "      <td>1</td>\n",
              "      <td>0.685674</td>\n",
              "      <td>0.000000</td>\n",
              "      <td>0.00000</td>\n",
              "      <td>0</td>\n",
              "      <td>0</td>\n",
              "      <td>0.708133</td>\n",
              "      <td>0.838291</td>\n",
              "      <td>0.300351</td>\n",
              "      <td>0.920894</td>\n",
              "      <td>0</td>\n",
              "    </tr>\n",
              "    <tr>\n",
              "      <th>3</th>\n",
              "      <td>0</td>\n",
              "      <td>3</td>\n",
              "      <td>1</td>\n",
              "      <td>1.147203</td>\n",
              "      <td>0.000000</td>\n",
              "      <td>0.00000</td>\n",
              "      <td>0</td>\n",
              "      <td>0</td>\n",
              "      <td>0.708133</td>\n",
              "      <td>0.838291</td>\n",
              "      <td>0.300351</td>\n",
              "      <td>0.920894</td>\n",
              "      <td>0</td>\n",
              "    </tr>\n",
              "    <tr>\n",
              "      <th>4</th>\n",
              "      <td>0</td>\n",
              "      <td>4</td>\n",
              "      <td>2</td>\n",
              "      <td>1.121604</td>\n",
              "      <td>0.236082</td>\n",
              "      <td>0.01741</td>\n",
              "      <td>0</td>\n",
              "      <td>0</td>\n",
              "      <td>0.708133</td>\n",
              "      <td>0.838291</td>\n",
              "      <td>0.300351</td>\n",
              "      <td>0.920894</td>\n",
              "      <td>0</td>\n",
              "    </tr>\n",
              "  </tbody>\n",
              "</table>\n",
              "</div>\n",
              "    <div class=\"colab-df-buttons\">\n",
              "\n",
              "  <div class=\"colab-df-container\">\n",
              "    <button class=\"colab-df-convert\" onclick=\"convertToInteractive('df-aa481074-8541-4bd4-8370-b20a44dcd1bc')\"\n",
              "            title=\"Convert this dataframe to an interactive table.\"\n",
              "            style=\"display:none;\">\n",
              "\n",
              "  <svg xmlns=\"http://www.w3.org/2000/svg\" height=\"24px\" viewBox=\"0 -960 960 960\">\n",
              "    <path d=\"M120-120v-720h720v720H120Zm60-500h600v-160H180v160Zm220 220h160v-160H400v160Zm0 220h160v-160H400v160ZM180-400h160v-160H180v160Zm440 0h160v-160H620v160ZM180-180h160v-160H180v160Zm440 0h160v-160H620v160Z\"/>\n",
              "  </svg>\n",
              "    </button>\n",
              "\n",
              "  <style>\n",
              "    .colab-df-container {\n",
              "      display:flex;\n",
              "      gap: 12px;\n",
              "    }\n",
              "\n",
              "    .colab-df-convert {\n",
              "      background-color: #E8F0FE;\n",
              "      border: none;\n",
              "      border-radius: 50%;\n",
              "      cursor: pointer;\n",
              "      display: none;\n",
              "      fill: #1967D2;\n",
              "      height: 32px;\n",
              "      padding: 0 0 0 0;\n",
              "      width: 32px;\n",
              "    }\n",
              "\n",
              "    .colab-df-convert:hover {\n",
              "      background-color: #E2EBFA;\n",
              "      box-shadow: 0px 1px 2px rgba(60, 64, 67, 0.3), 0px 1px 3px 1px rgba(60, 64, 67, 0.15);\n",
              "      fill: #174EA6;\n",
              "    }\n",
              "\n",
              "    .colab-df-buttons div {\n",
              "      margin-bottom: 4px;\n",
              "    }\n",
              "\n",
              "    [theme=dark] .colab-df-convert {\n",
              "      background-color: #3B4455;\n",
              "      fill: #D2E3FC;\n",
              "    }\n",
              "\n",
              "    [theme=dark] .colab-df-convert:hover {\n",
              "      background-color: #434B5C;\n",
              "      box-shadow: 0px 1px 3px 1px rgba(0, 0, 0, 0.15);\n",
              "      filter: drop-shadow(0px 1px 2px rgba(0, 0, 0, 0.3));\n",
              "      fill: #FFFFFF;\n",
              "    }\n",
              "  </style>\n",
              "\n",
              "    <script>\n",
              "      const buttonEl =\n",
              "        document.querySelector('#df-aa481074-8541-4bd4-8370-b20a44dcd1bc button.colab-df-convert');\n",
              "      buttonEl.style.display =\n",
              "        google.colab.kernel.accessAllowed ? 'block' : 'none';\n",
              "\n",
              "      async function convertToInteractive(key) {\n",
              "        const element = document.querySelector('#df-aa481074-8541-4bd4-8370-b20a44dcd1bc');\n",
              "        const dataTable =\n",
              "          await google.colab.kernel.invokeFunction('convertToInteractive',\n",
              "                                                    [key], {});\n",
              "        if (!dataTable) return;\n",
              "\n",
              "        const docLinkHtml = 'Like what you see? Visit the ' +\n",
              "          '<a target=\"_blank\" href=https://colab.research.google.com/notebooks/data_table.ipynb>data table notebook</a>'\n",
              "          + ' to learn more about interactive tables.';\n",
              "        element.innerHTML = '';\n",
              "        dataTable['output_type'] = 'display_data';\n",
              "        await google.colab.output.renderOutput(dataTable, element);\n",
              "        const docLink = document.createElement('div');\n",
              "        docLink.innerHTML = docLinkHtml;\n",
              "        element.appendChild(docLink);\n",
              "      }\n",
              "    </script>\n",
              "  </div>\n",
              "\n",
              "\n",
              "<div id=\"df-c45d9d04-0d20-4fc1-9353-22af5ae51586\">\n",
              "  <button class=\"colab-df-quickchart\" onclick=\"quickchart('df-c45d9d04-0d20-4fc1-9353-22af5ae51586')\"\n",
              "            title=\"Suggest charts\"\n",
              "            style=\"display:none;\">\n",
              "\n",
              "<svg xmlns=\"http://www.w3.org/2000/svg\" height=\"24px\"viewBox=\"0 0 24 24\"\n",
              "     width=\"24px\">\n",
              "    <g>\n",
              "        <path d=\"M19 3H5c-1.1 0-2 .9-2 2v14c0 1.1.9 2 2 2h14c1.1 0 2-.9 2-2V5c0-1.1-.9-2-2-2zM9 17H7v-7h2v7zm4 0h-2V7h2v10zm4 0h-2v-4h2v4z\"/>\n",
              "    </g>\n",
              "</svg>\n",
              "  </button>\n",
              "\n",
              "<style>\n",
              "  .colab-df-quickchart {\n",
              "      --bg-color: #E8F0FE;\n",
              "      --fill-color: #1967D2;\n",
              "      --hover-bg-color: #E2EBFA;\n",
              "      --hover-fill-color: #174EA6;\n",
              "      --disabled-fill-color: #AAA;\n",
              "      --disabled-bg-color: #DDD;\n",
              "  }\n",
              "\n",
              "  [theme=dark] .colab-df-quickchart {\n",
              "      --bg-color: #3B4455;\n",
              "      --fill-color: #D2E3FC;\n",
              "      --hover-bg-color: #434B5C;\n",
              "      --hover-fill-color: #FFFFFF;\n",
              "      --disabled-bg-color: #3B4455;\n",
              "      --disabled-fill-color: #666;\n",
              "  }\n",
              "\n",
              "  .colab-df-quickchart {\n",
              "    background-color: var(--bg-color);\n",
              "    border: none;\n",
              "    border-radius: 50%;\n",
              "    cursor: pointer;\n",
              "    display: none;\n",
              "    fill: var(--fill-color);\n",
              "    height: 32px;\n",
              "    padding: 0;\n",
              "    width: 32px;\n",
              "  }\n",
              "\n",
              "  .colab-df-quickchart:hover {\n",
              "    background-color: var(--hover-bg-color);\n",
              "    box-shadow: 0 1px 2px rgba(60, 64, 67, 0.3), 0 1px 3px 1px rgba(60, 64, 67, 0.15);\n",
              "    fill: var(--button-hover-fill-color);\n",
              "  }\n",
              "\n",
              "  .colab-df-quickchart-complete:disabled,\n",
              "  .colab-df-quickchart-complete:disabled:hover {\n",
              "    background-color: var(--disabled-bg-color);\n",
              "    fill: var(--disabled-fill-color);\n",
              "    box-shadow: none;\n",
              "  }\n",
              "\n",
              "  .colab-df-spinner {\n",
              "    border: 2px solid var(--fill-color);\n",
              "    border-color: transparent;\n",
              "    border-bottom-color: var(--fill-color);\n",
              "    animation:\n",
              "      spin 1s steps(1) infinite;\n",
              "  }\n",
              "\n",
              "  @keyframes spin {\n",
              "    0% {\n",
              "      border-color: transparent;\n",
              "      border-bottom-color: var(--fill-color);\n",
              "      border-left-color: var(--fill-color);\n",
              "    }\n",
              "    20% {\n",
              "      border-color: transparent;\n",
              "      border-left-color: var(--fill-color);\n",
              "      border-top-color: var(--fill-color);\n",
              "    }\n",
              "    30% {\n",
              "      border-color: transparent;\n",
              "      border-left-color: var(--fill-color);\n",
              "      border-top-color: var(--fill-color);\n",
              "      border-right-color: var(--fill-color);\n",
              "    }\n",
              "    40% {\n",
              "      border-color: transparent;\n",
              "      border-right-color: var(--fill-color);\n",
              "      border-top-color: var(--fill-color);\n",
              "    }\n",
              "    60% {\n",
              "      border-color: transparent;\n",
              "      border-right-color: var(--fill-color);\n",
              "    }\n",
              "    80% {\n",
              "      border-color: transparent;\n",
              "      border-right-color: var(--fill-color);\n",
              "      border-bottom-color: var(--fill-color);\n",
              "    }\n",
              "    90% {\n",
              "      border-color: transparent;\n",
              "      border-bottom-color: var(--fill-color);\n",
              "    }\n",
              "  }\n",
              "</style>\n",
              "\n",
              "  <script>\n",
              "    async function quickchart(key) {\n",
              "      const quickchartButtonEl =\n",
              "        document.querySelector('#' + key + ' button');\n",
              "      quickchartButtonEl.disabled = true;  // To prevent multiple clicks.\n",
              "      quickchartButtonEl.classList.add('colab-df-spinner');\n",
              "      try {\n",
              "        const charts = await google.colab.kernel.invokeFunction(\n",
              "            'suggestCharts', [key], {});\n",
              "      } catch (error) {\n",
              "        console.error('Error during call to suggestCharts:', error);\n",
              "      }\n",
              "      quickchartButtonEl.classList.remove('colab-df-spinner');\n",
              "      quickchartButtonEl.classList.add('colab-df-quickchart-complete');\n",
              "    }\n",
              "    (() => {\n",
              "      let quickchartButtonEl =\n",
              "        document.querySelector('#df-c45d9d04-0d20-4fc1-9353-22af5ae51586 button');\n",
              "      quickchartButtonEl.style.display =\n",
              "        google.colab.kernel.accessAllowed ? 'block' : 'none';\n",
              "    })();\n",
              "  </script>\n",
              "</div>\n",
              "\n",
              "    </div>\n",
              "  </div>\n"
            ],
            "application/vnd.google.colaboratory.intrinsic+json": {
              "type": "dataframe",
              "variable_name": "test_set"
            }
          },
          "metadata": {},
          "execution_count": 5
        }
      ]
    },
    {
      "cell_type": "markdown",
      "source": [
        "# 2. Forecasting activity from a sequence of past activities\n",
        "Firstly, we need to create a model that when we give it a sequence of past actions, it can predict the next action. This similar to how models like ChatGPT and Gemini work.\n",
        "\n",
        "There are two ways we can do this.\n",
        "1. We have sequences of fixed length. (Length = Tx)\n",
        "2. We have sequences of variable lenght (Length <= Tx)\n",
        "\n",
        "In our approach, we can set a fixed length and work with that since we don't have a restriction regarding that. When predicting such sequences, we have several options. RNNs, LSTMs, and Auto Regressive models. The way we pick between them is with the amount of data we have, the size of the model, accuracy we want, and the computing resources. In this task, since we have enough data (We don't need to use Auto-regressive models), and we want good acccuracy and for the model to use data from most of the sequence given, we can use a LSTM model.\n",
        "## Creating sequences\n",
        "To start, we need to convert the train/test data into sequences to start working on it and training the model.\n",
        "We first create the training data from the current data by grouping the data based on their subject/patient. Afterwards, we create data only for each patient to not have any useless or unhelpful data. To avoid contaminations, we seperate train and dev tests based on the subject before training."
      ],
      "metadata": {
        "id": "cWTXtAi8l_9D"
      }
    },
    {
      "cell_type": "code",
      "source": [
        "import numpy as np\n",
        "\n",
        "# Function to create sequences for each subject\n",
        "def create_sequences(data, sequence_length):\n",
        "    sequences = []\n",
        "    targets = []\n",
        "\n",
        "    for subject_id in data['subject'].unique():\n",
        "        subject_data = data[data['subject'] == subject_id]  # Filter by subject\n",
        "        actions = subject_data['action'].values  # Extract the sequence of actions\n",
        "\n",
        "        for i in range(len(actions) - sequence_length):\n",
        "            seq = actions[i:i + sequence_length]  # Get the sequence of actions\n",
        "            target = actions[i + sequence_length]  # Get the next action\n",
        "            sequences.append(seq)\n",
        "            targets.append(target)\n",
        "\n",
        "    return np.array(sequences), np.array(targets)"
      ],
      "metadata": {
        "id": "Tox9CUQZ2gI1"
      },
      "execution_count": 6,
      "outputs": []
    },
    {
      "cell_type": "markdown",
      "source": [
        "To split the training data set, we first split the patients using a 90/10 train/dev split. Afterwards, we create the training and validation data by adding each row to their respective patient using their subject column. This ensures that we don't have any cross contamination within the data."
      ],
      "metadata": {
        "id": "j2t_G80k8TI9"
      }
    },
    {
      "cell_type": "code",
      "source": [
        "import numpy as np\n",
        "from sklearn.model_selection import train_test_split\n",
        "\n",
        "# Define the sequence length\n",
        "sequence_length = 70\n",
        "\n",
        "# Split based on subjects first (from train_set only)\n",
        "subjects = train_set['subject'].unique()\n",
        "\n",
        "# Split subjects into 80% train and 20% validation\n",
        "train_subjects, val_subjects = train_test_split(subjects, test_size=0.1, random_state=42)\n",
        "\n",
        "# Create training and validation sets based on subjects\n",
        "train_data = train_set[train_set['subject'].isin(train_subjects)]\n",
        "val_data = train_set[train_set['subject'].isin(val_subjects)]"
      ],
      "metadata": {
        "id": "VLeJt-3uBQBp"
      },
      "execution_count": 8,
      "outputs": []
    },
    {
      "cell_type": "code",
      "source": [
        "# Create sequences for the train and validation sets\n",
        "X_train, y_train = create_sequences(train_data, sequence_length)\n",
        "X_val, y_val = create_sequences(val_data, sequence_length)\n",
        "\n",
        "# Create sequences for the test set\n",
        "X_test, y_test = create_sequences(test_set, sequence_length)"
      ],
      "metadata": {
        "id": "ov_xOj6c3-ZP"
      },
      "execution_count": 9,
      "outputs": []
    },
    {
      "cell_type": "markdown",
      "source": [
        "## Creation, and Training of the LSTM model\n",
        "In this task, we use tensorflow which is developed by Google to help developers create neural networks with ease with a lot of abstraction. We use to layers of LSTM in this model, after testing with one layer and two layers, I saw much better results with two layers.\n",
        "\n",
        "Since we are trying to predict the next action, we use a softmax layer at the end which is similar to how a sigmoid function works but for several classes instead of just one.\n",
        "\n",
        "Training these models are possible on the CPU, however, it might take a long time, in these circumstances, we can use GPUs which for training of this model, I used Nvidia T4 to use the power and efficiency of NVIDA CUDA.\n",
        "\n",
        "In addition, I used the Adam optimizer which is shown to improve results and is widely used in training NNs.\n",
        "\n",
        "To speed up the process, I used a batch size of 4096, which helps the model do more things in parallel, but might make it harder for the model to generalize. In addition, I chose a epoch of 20, which helped each senario to be seen enough times for the model to learn."
      ],
      "metadata": {
        "id": "eed26f14nnkP"
      }
    },
    {
      "cell_type": "code",
      "source": [
        "import tensorflow as tf\n",
        "from tensorflow.keras.models import Sequential\n",
        "from tensorflow.keras.layers import LSTM, Dense, Embedding\n",
        "\n",
        "# Optional: Force the model to use GPU (if available)\n",
        "with tf.device('/GPU:0'):  # Use '/GPU:1' if you have multiple GPUs\n",
        "  # Parameters\n",
        "  n_unique_actions = 6  # Number of unique actions\n",
        "  embedding_dim = 50  # Size of embedding vectors\n",
        "\n",
        "  # Model\n",
        "  model = Sequential()\n",
        "  model.add(Embedding(input_dim=n_unique_actions, output_dim=embedding_dim))\n",
        "  model.add(LSTM(128, return_sequences=True))  # Return sequences to feed the next LSTM layer\n",
        "  model.add(LSTM(64, return_sequences=False))  # Second LSTM layer with fewer units\n",
        "  model.add(Dense(n_unique_actions, activation='softmax'))  # Output layer\n",
        "\n",
        "  # Compile the model\n",
        "  model.compile(optimizer='adam', loss='sparse_categorical_crossentropy', metrics=['accuracy'])\n",
        "\n",
        "# Train the model\n",
        "model.fit(X_train, y_train, epochs=20, batch_size=4096, validation_data=(X_val, y_val))"
      ],
      "metadata": {
        "colab": {
          "base_uri": "https://localhost:8080/",
          "height": 0
        },
        "id": "kduFtp3d-IuM",
        "outputId": "10ed62a6-ea12-43cb-b324-ce2cc97cad4e"
      },
      "execution_count": 11,
      "outputs": [
        {
          "output_type": "stream",
          "name": "stdout",
          "text": [
            "Epoch 1/20\n",
            "\u001b[1m68/68\u001b[0m \u001b[32m━━━━━━━━━━━━━━━━━━━━\u001b[0m\u001b[37m\u001b[0m \u001b[1m14s\u001b[0m 151ms/step - accuracy: 0.4298 - loss: 1.4527 - val_accuracy: 0.5859 - val_loss: 1.0582\n",
            "Epoch 2/20\n",
            "\u001b[1m68/68\u001b[0m \u001b[32m━━━━━━━━━━━━━━━━━━━━\u001b[0m\u001b[37m\u001b[0m \u001b[1m10s\u001b[0m 148ms/step - accuracy: 0.5652 - loss: 1.0837 - val_accuracy: 0.6014 - val_loss: 0.9919\n",
            "Epoch 3/20\n",
            "\u001b[1m68/68\u001b[0m \u001b[32m━━━━━━━━━━━━━━━━━━━━\u001b[0m\u001b[37m\u001b[0m \u001b[1m10s\u001b[0m 148ms/step - accuracy: 0.5763 - loss: 1.0360 - val_accuracy: 0.6030 - val_loss: 0.9770\n",
            "Epoch 4/20\n",
            "\u001b[1m68/68\u001b[0m \u001b[32m━━━━━━━━━━━━━━━━━━━━\u001b[0m\u001b[37m\u001b[0m \u001b[1m10s\u001b[0m 150ms/step - accuracy: 0.5775 - loss: 1.0200 - val_accuracy: 0.6089 - val_loss: 0.9552\n",
            "Epoch 5/20\n",
            "\u001b[1m68/68\u001b[0m \u001b[32m━━━━━━━━━━━━━━━━━━━━\u001b[0m\u001b[37m\u001b[0m \u001b[1m10s\u001b[0m 154ms/step - accuracy: 0.5847 - loss: 1.0009 - val_accuracy: 0.6077 - val_loss: 0.9518\n",
            "Epoch 6/20\n",
            "\u001b[1m68/68\u001b[0m \u001b[32m━━━━━━━━━━━━━━━━━━━━\u001b[0m\u001b[37m\u001b[0m \u001b[1m21s\u001b[0m 157ms/step - accuracy: 0.5855 - loss: 0.9921 - val_accuracy: 0.6069 - val_loss: 0.9538\n",
            "Epoch 7/20\n",
            "\u001b[1m68/68\u001b[0m \u001b[32m━━━━━━━━━━━━━━━━━━━━\u001b[0m\u001b[37m\u001b[0m \u001b[1m20s\u001b[0m 157ms/step - accuracy: 0.5867 - loss: 0.9901 - val_accuracy: 0.6107 - val_loss: 0.9363\n",
            "Epoch 8/20\n",
            "\u001b[1m68/68\u001b[0m \u001b[32m━━━━━━━━━━━━━━━━━━━━\u001b[0m\u001b[37m\u001b[0m \u001b[1m21s\u001b[0m 157ms/step - accuracy: 0.5877 - loss: 0.9816 - val_accuracy: 0.6154 - val_loss: 0.9300\n",
            "Epoch 9/20\n",
            "\u001b[1m68/68\u001b[0m \u001b[32m━━━━━━━━━━━━━━━━━━━━\u001b[0m\u001b[37m\u001b[0m \u001b[1m11s\u001b[0m 162ms/step - accuracy: 0.5885 - loss: 0.9805 - val_accuracy: 0.6116 - val_loss: 0.9274\n",
            "Epoch 10/20\n",
            "\u001b[1m68/68\u001b[0m \u001b[32m━━━━━━━━━━━━━━━━━━━━\u001b[0m\u001b[37m\u001b[0m \u001b[1m20s\u001b[0m 160ms/step - accuracy: 0.5934 - loss: 0.9689 - val_accuracy: 0.6135 - val_loss: 0.9232\n",
            "Epoch 11/20\n",
            "\u001b[1m68/68\u001b[0m \u001b[32m━━━━━━━━━━━━━━━━━━━━\u001b[0m\u001b[37m\u001b[0m \u001b[1m20s\u001b[0m 160ms/step - accuracy: 0.5929 - loss: 0.9701 - val_accuracy: 0.6144 - val_loss: 0.9228\n",
            "Epoch 12/20\n",
            "\u001b[1m68/68\u001b[0m \u001b[32m━━━━━━━━━━━━━━━━━━━━\u001b[0m\u001b[37m\u001b[0m \u001b[1m11s\u001b[0m 162ms/step - accuracy: 0.5910 - loss: 0.9697 - val_accuracy: 0.6174 - val_loss: 0.9178\n",
            "Epoch 13/20\n",
            "\u001b[1m68/68\u001b[0m \u001b[32m━━━━━━━━━━━━━━━━━━━━\u001b[0m\u001b[37m\u001b[0m \u001b[1m20s\u001b[0m 158ms/step - accuracy: 0.5928 - loss: 0.9652 - val_accuracy: 0.6162 - val_loss: 0.9189\n",
            "Epoch 14/20\n",
            "\u001b[1m68/68\u001b[0m \u001b[32m━━━━━━━━━━━━━━━━━━━━\u001b[0m\u001b[37m\u001b[0m \u001b[1m21s\u001b[0m 159ms/step - accuracy: 0.5926 - loss: 0.9642 - val_accuracy: 0.6163 - val_loss: 0.9161\n",
            "Epoch 15/20\n",
            "\u001b[1m68/68\u001b[0m \u001b[32m━━━━━━━━━━━━━━━━━━━━\u001b[0m\u001b[37m\u001b[0m \u001b[1m21s\u001b[0m 161ms/step - accuracy: 0.5951 - loss: 0.9583 - val_accuracy: 0.6169 - val_loss: 0.9134\n",
            "Epoch 16/20\n",
            "\u001b[1m68/68\u001b[0m \u001b[32m━━━━━━━━━━━━━━━━━━━━\u001b[0m\u001b[37m\u001b[0m \u001b[1m20s\u001b[0m 160ms/step - accuracy: 0.5940 - loss: 0.9600 - val_accuracy: 0.6179 - val_loss: 0.9109\n",
            "Epoch 17/20\n",
            "\u001b[1m68/68\u001b[0m \u001b[32m━━━━━━━━━━━━━━━━━━━━\u001b[0m\u001b[37m\u001b[0m \u001b[1m20s\u001b[0m 160ms/step - accuracy: 0.5969 - loss: 0.9526 - val_accuracy: 0.6149 - val_loss: 0.9178\n",
            "Epoch 18/20\n",
            "\u001b[1m68/68\u001b[0m \u001b[32m━━━━━━━━━━━━━━━━━━━━\u001b[0m\u001b[37m\u001b[0m \u001b[1m21s\u001b[0m 163ms/step - accuracy: 0.5932 - loss: 0.9620 - val_accuracy: 0.6152 - val_loss: 0.9174\n",
            "Epoch 19/20\n",
            "\u001b[1m68/68\u001b[0m \u001b[32m━━━━━━━━━━━━━━━━━━━━\u001b[0m\u001b[37m\u001b[0m \u001b[1m20s\u001b[0m 162ms/step - accuracy: 0.5962 - loss: 0.9544 - val_accuracy: 0.6167 - val_loss: 0.9107\n",
            "Epoch 20/20\n",
            "\u001b[1m68/68\u001b[0m \u001b[32m━━━━━━━━━━━━━━━━━━━━\u001b[0m\u001b[37m\u001b[0m \u001b[1m20s\u001b[0m 160ms/step - accuracy: 0.5952 - loss: 0.9535 - val_accuracy: 0.6163 - val_loss: 0.9087\n"
          ]
        },
        {
          "output_type": "execute_result",
          "data": {
            "text/plain": [
              "<keras.src.callbacks.history.History at 0x7dc336ed2e60>"
            ]
          },
          "metadata": {},
          "execution_count": 11
        }
      ]
    },
    {
      "cell_type": "markdown",
      "source": [
        "### Example"
      ],
      "metadata": {
        "id": "iPRLVzBsplxw"
      }
    },
    {
      "cell_type": "code",
      "source": [
        "# Example prediction\n",
        "rand_example = 30\n",
        "example_sequence = X_train[rand_example].reshape(1, -1)  # Use a sequence from the training data\n",
        "predicted_action = model.predict(example_sequence)\n",
        "predicted_action = np.argmax(predicted_action)  # Get the index of the most likely action\n",
        "\n",
        "print(f\"Predicted action: {predicted_action}\")\n",
        "print(f\"Actual action: {y_train[rand_example]}\")"
      ],
      "metadata": {
        "colab": {
          "base_uri": "https://localhost:8080/",
          "height": 0
        },
        "id": "YnGDYwN6-K2y",
        "outputId": "c473d560-2748-4fe4-e81b-1d016a55776d"
      },
      "execution_count": 12,
      "outputs": [
        {
          "output_type": "stream",
          "name": "stdout",
          "text": [
            "\u001b[1m1/1\u001b[0m \u001b[32m━━━━━━━━━━━━━━━━━━━━\u001b[0m\u001b[37m\u001b[0m \u001b[1m0s\u001b[0m 231ms/step\n",
            "Predicted action: 1\n",
            "Actual action: 1\n"
          ]
        }
      ]
    },
    {
      "cell_type": "markdown",
      "source": [
        "## Results\n",
        "After training and testing we can see that this model will perform correctly with an accuracy of around **60%** both on training and test data. This means that the model hugely outperforms random guessing which means our model actually learned from the data. (random guessing = 16.66%)"
      ],
      "metadata": {
        "id": "u2YK3Pv_8tOb"
      }
    },
    {
      "cell_type": "code",
      "source": [
        "# Predict on validation set\n",
        "y_pred = model.predict(X_test)\n",
        "\n",
        "# Convert predictions to class labels (actions)\n",
        "y_pred_classes = np.argmax(y_pred, axis=1)\n",
        "\n",
        "# Calculate accuracy manually\n",
        "accuracy = np.mean(y_pred_classes == y_test)\n",
        "print(f\"Manual Accuracy: {accuracy * 100:.2f}%\")"
      ],
      "metadata": {
        "colab": {
          "base_uri": "https://localhost:8080/",
          "height": 0
        },
        "id": "Rg5-CXdz-mVR",
        "outputId": "8717e73f-520b-42c2-9b4e-cd7b28a3baa5"
      },
      "execution_count": 13,
      "outputs": [
        {
          "output_type": "stream",
          "name": "stdout",
          "text": [
            "\u001b[1m9565/9565\u001b[0m \u001b[32m━━━━━━━━━━━━━━━━━━━━\u001b[0m\u001b[37m\u001b[0m \u001b[1m43s\u001b[0m 4ms/step\n",
            "Manual Accuracy: 59.57%\n"
          ]
        }
      ]
    },
    {
      "cell_type": "markdown",
      "source": [
        "## Visualization\n",
        "We use a Confusion matrix, to view how the model predicted the labels and to see if there are some easy-to-identify biases in the model."
      ],
      "metadata": {
        "id": "35N-gTH0p9Pg"
      }
    },
    {
      "cell_type": "code",
      "source": [
        "import matplotlib.pyplot as plt\n",
        "import seaborn as sns\n",
        "from sklearn.metrics import confusion_matrix # Import the confusion_matrix function\n",
        "\n",
        "# Assuming you have y_true and y_pred defined (e.g., from your model predictions)\n",
        "conf_matrix = confusion_matrix(y_test, y_pred_classes) # Calculate the confusion matrix\n",
        "\n",
        "# Plot the confusion matrix\n",
        "plt.figure(figsize=(10, 8))\n",
        "sns.heatmap(conf_matrix, annot=True, fmt=\"d\", cmap=\"Blues\", xticklabels=list(action_mapping.keys()), yticklabels=list(action_mapping.keys()))\n",
        "plt.title(\"Confusion Matrix\")\n",
        "plt.xlabel(\"Predicted Labels\")\n",
        "plt.ylabel(\"True Labels\")\n",
        "plt.show()"
      ],
      "metadata": {
        "colab": {
          "base_uri": "https://localhost:8080/",
          "height": 718
        },
        "id": "x7RjM2l4-u0m",
        "outputId": "da0f3b74-395d-4665-be9b-ea5ff28ce1be"
      },
      "execution_count": 15,
      "outputs": [
        {
          "output_type": "display_data",
          "data": {
            "text/plain": [
              "<Figure size 1000x800 with 2 Axes>"
            ],
            "image/png": "[encoded data removed]"
          },
          "metadata": {}
        }
      ]
    },
    {
      "cell_type": "markdown",
      "source": [
        "# 3. Prediction of the activity class"
      ],
      "metadata": {
        "id": "NJnLTvN4qK99"
      }
    },
    {
      "cell_type": "markdown",
      "source": [
        "Now, we try to predict the actions using the other data's provided for each row. To do so, like the prediction for accidents and heart attacks, we use **Logistic Regression**."
      ],
      "metadata": {
        "id": "tRYU1zmzZhKg"
      }
    },
    {
      "cell_type": "markdown",
      "source": [
        "## Import Libraries"
      ],
      "metadata": {
        "id": "PiW-TPqYfDAQ"
      }
    },
    {
      "cell_type": "code",
      "source": [
        "import pandas as pd\n",
        "from sklearn.model_selection import train_test_split\n",
        "from sklearn.linear_model import LogisticRegression\n",
        "from sklearn.metrics import accuracy_score, confusion_matrix, classification_report"
      ],
      "metadata": {
        "id": "t7XTsLszLb-0"
      },
      "execution_count": 38,
      "outputs": []
    },
    {
      "cell_type": "markdown",
      "source": [
        "## Model Training\n",
        "We train this model using the sklearn library. Afterwards, we test the model on our test set. Since we need to classify the data into several classes, logistic regression does pretty good in this task."
      ],
      "metadata": {
        "id": "KtlSzCAQfF97"
      }
    },
    {
      "cell_type": "code",
      "source": [
        "# Extracting the features and target\n",
        "X = train_set.drop('action', axis=1)  # All columns except 'action'\n",
        "y = train_set['action']  # Target (Action)\n",
        "\n",
        "# Split the data into training and testing sets (80% train, 20% test)\n",
        "X_train, X_test, y_train, y_test = train_test_split(X, y, test_size=0.2, random_state=42)\n",
        "\n",
        "# Create a Logistic Regression model (you can try other classifiers too)\n",
        "model = LogisticRegression(max_iter=1000)\n",
        "\n",
        "# Train the model\n",
        "model.fit(X_train, y_train)\n",
        "\n",
        "# Predict on the test set\n",
        "y_pred = model.predict(X_test)\n",
        "\n",
        "# Evaluate the model\n",
        "accuracy = accuracy_score(y_test, y_pred)\n",
        "print(f\"Accuracy: {accuracy * 100:.2f}%\")\n",
        "\n",
        "# Confusion Matrix\n",
        "conf_matrix = confusion_matrix(y_test, y_pred)\n",
        "print(\"Confusion Matrix:\")\n",
        "print(conf_matrix)\n",
        "\n",
        "# Classification Report (precision, recall, f1-score for each class)\n",
        "class_report = classification_report(y_test, y_pred)\n",
        "print(\"Classification Report:\")\n",
        "print(class_report)"
      ],
      "metadata": {
        "colab": {
          "base_uri": "https://localhost:8080/",
          "height": 0
        },
        "id": "tVMPn0bUKgmr",
        "outputId": "ced7a2b7-34cb-457a-e9d1-c9cfab2fcb2c"
      },
      "execution_count": 39,
      "outputs": [
        {
          "output_type": "stream",
          "name": "stdout",
          "text": [
            "Accuracy: 45.78%\n",
            "Confusion Matrix:\n",
            "[[ 2109  2502  1173    76  1058     0]\n",
            " [   29 19291   462   886  2626     0]\n",
            " [  591  2221  4609   246  3542     0]\n",
            " [  746  4014  1687   549  2710     0]\n",
            " [ 1078  8898  2363   393  4946     0]\n",
            " [    3     0     5     0     0     0]]\n",
            "Classification Report:\n",
            "              precision    recall  f1-score   support\n",
            "\n",
            "           0       0.46      0.30      0.37      6918\n",
            "           1       0.52      0.83      0.64     23294\n",
            "           2       0.45      0.41      0.43     11209\n",
            "           3       0.26      0.06      0.09      9706\n",
            "           4       0.33      0.28      0.30     17678\n",
            "           5       0.00      0.00      0.00         8\n",
            "\n",
            "    accuracy                           0.46     68813\n",
            "   macro avg       0.34      0.31      0.31     68813\n",
            "weighted avg       0.42      0.46      0.41     68813\n",
            "\n"
          ]
        },
        {
          "output_type": "stream",
          "name": "stderr",
          "text": [
            "/usr/local/lib/python3.10/dist-packages/sklearn/linear_model/_logistic.py:460: ConvergenceWarning: lbfgs failed to converge (status=1):\n",
            "STOP: TOTAL NO. of ITERATIONS REACHED LIMIT.\n",
            "\n",
            "Increase the number of iterations (max_iter) or scale the data as shown in:\n",
            "    https://scikit-learn.org/stable/modules/preprocessing.html\n",
            "Please also refer to the documentation for alternative solver options:\n",
            "    https://scikit-learn.org/stable/modules/linear_model.html#logistic-regression\n",
            "  n_iter_i = _check_optimize_result(\n",
            "/usr/local/lib/python3.10/dist-packages/sklearn/metrics/_classification.py:1471: UndefinedMetricWarning: Precision and F-score are ill-defined and being set to 0.0 in labels with no predicted samples. Use `zero_division` parameter to control this behavior.\n",
            "  _warn_prf(average, modifier, msg_start, len(result))\n",
            "/usr/local/lib/python3.10/dist-packages/sklearn/metrics/_classification.py:1471: UndefinedMetricWarning: Precision and F-score are ill-defined and being set to 0.0 in labels with no predicted samples. Use `zero_division` parameter to control this behavior.\n",
            "  _warn_prf(average, modifier, msg_start, len(result))\n",
            "/usr/local/lib/python3.10/dist-packages/sklearn/metrics/_classification.py:1471: UndefinedMetricWarning: Precision and F-score are ill-defined and being set to 0.0 in labels with no predicted samples. Use `zero_division` parameter to control this behavior.\n",
            "  _warn_prf(average, modifier, msg_start, len(result))\n"
          ]
        }
      ]
    },
    {
      "cell_type": "markdown",
      "source": [
        "## Results\n",
        "The model does pretty well since we are classifying data into 6 classes. (Better than random chance by a significant margin), however, since the model cannot use the data from several rows at the same time, it seems to not be able to do as good as a job that the LSTM method did.\n",
        "\n",
        "We can conclude that for classification/prediction for a row value, this method might be a good method, however, for predicting using several rows and predicting the next one, we can use models designed for those tasks like RNNs, LSTM, Transformers(overkill for such a task)."
      ],
      "metadata": {
        "id": "2R15So3ff0Ls"
      }
    },
    {
      "cell_type": "markdown",
      "source": [
        "### Confusion Matrix\n",
        "To understand the model on a deeper level, we can use the confusion matrix since it helps us understand the biases and shortcomings of the model. This method is very helpfull when we are working with classification problems.\n",
        "\n",
        "We can see that the model is very good at predicting when user is sleep which might indicate that the difference between a sleeping patient and a non-sleeping patient is significant enough for the model to understand and correctly predict."
      ],
      "metadata": {
        "id": "RdzcShj-gump"
      }
    },
    {
      "cell_type": "code",
      "source": [
        "import seaborn as sns\n",
        "import matplotlib.pyplot as plt\n",
        "\n",
        "plt.figure(figsize=(8, 6))\n",
        "sns.heatmap(conf_matrix, annot=True, fmt=\"d\", cmap=\"Blues\", xticklabels=model.classes_, yticklabels=model.classes_)\n",
        "plt.xlabel('Predicted')\n",
        "plt.ylabel('Actual')\n",
        "plt.title('Confusion Matrix')\n",
        "plt.show()"
      ],
      "metadata": {
        "colab": {
          "base_uri": "https://localhost:8080/",
          "height": 564
        },
        "id": "4d2J8NueLYQ0",
        "outputId": "acb4d275-99c8-4ad8-c0d5-929916def200"
      },
      "execution_count": 40,
      "outputs": [
        {
          "output_type": "display_data",
          "data": {
            "text/plain": [
              "<Figure size 800x600 with 2 Axes>"
            ],
            "image/png": "[encoded data removed]"
          },
          "metadata": {}
        }
      ]
    },
    {
      "cell_type": "code",
      "source": [
        "# Extract features (X_test) and target (y_test) from test_set\n",
        "X_test_set = test_set.drop('action', axis=1)  # All columns except 'action'\n",
        "y_test_set = test_set['action']  # Target (Action)\n",
        "\n",
        "# Predict on the test set\n",
        "y_pred_test_set = model.predict(X_test_set)\n",
        "\n",
        "# Evaluate the model on test_set\n",
        "test_accuracy = accuracy_score(y_test_set, y_pred_test_set)\n",
        "print(f\"Test Set Accuracy: {test_accuracy * 100:.2f}%\")\n",
        "\n",
        "# Confusion Matrix for test_set\n",
        "test_conf_matrix = confusion_matrix(y_test_set, y_pred_test_set)\n",
        "print(\"Test Set Confusion Matrix:\")\n",
        "print(test_conf_matrix)\n",
        "\n",
        "# Classification Report for test_set\n",
        "test_class_report = classification_report(y_test_set, y_pred_test_set)\n",
        "print(\"Test Set Classification Report:\")\n",
        "print(test_class_report)"
      ],
      "metadata": {
        "colab": {
          "base_uri": "https://localhost:8080/",
          "height": 0
        },
        "id": "YZ9BWgbnLfto",
        "outputId": "471b5dcf-31df-4527-dc0c-02b26a1dc376"
      },
      "execution_count": 41,
      "outputs": [
        {
          "output_type": "stream",
          "name": "stdout",
          "text": [
            "Test Set Accuracy: 45.40%\n",
            "Test Set Confusion Matrix:\n",
            "[[ 9394 12151  5996   364  5006     0]\n",
            " [  190 94202  2542  4017 12988     0]\n",
            " [ 2887 10956 23803  1423 17697     0]\n",
            " [ 3406 20498  8393  2633 14300     0]\n",
            " [ 4665 45449 11494  1757 24801     0]\n",
            " [   14     0    49     0     0     0]]\n"
          ]
        },
        {
          "output_type": "stream",
          "name": "stderr",
          "text": [
            "/usr/local/lib/python3.10/dist-packages/sklearn/metrics/_classification.py:1471: UndefinedMetricWarning: Precision and F-score are ill-defined and being set to 0.0 in labels with no predicted samples. Use `zero_division` parameter to control this behavior.\n",
            "  _warn_prf(average, modifier, msg_start, len(result))\n",
            "/usr/local/lib/python3.10/dist-packages/sklearn/metrics/_classification.py:1471: UndefinedMetricWarning: Precision and F-score are ill-defined and being set to 0.0 in labels with no predicted samples. Use `zero_division` parameter to control this behavior.\n",
            "  _warn_prf(average, modifier, msg_start, len(result))\n"
          ]
        },
        {
          "output_type": "stream",
          "name": "stdout",
          "text": [
            "Test Set Classification Report:\n",
            "              precision    recall  f1-score   support\n",
            "\n",
            "           0       0.46      0.29      0.35     32911\n",
            "           1       0.51      0.83      0.63    113939\n",
            "           2       0.46      0.42      0.44     56766\n",
            "           3       0.26      0.05      0.09     49230\n",
            "           4       0.33      0.28      0.30     88166\n",
            "           5       0.00      0.00      0.00        63\n",
            "\n",
            "    accuracy                           0.45    341075\n",
            "   macro avg       0.34      0.31      0.30    341075\n",
            "weighted avg       0.41      0.45      0.41    341075\n",
            "\n"
          ]
        },
        {
          "output_type": "stream",
          "name": "stderr",
          "text": [
            "/usr/local/lib/python3.10/dist-packages/sklearn/metrics/_classification.py:1471: UndefinedMetricWarning: Precision and F-score are ill-defined and being set to 0.0 in labels with no predicted samples. Use `zero_division` parameter to control this behavior.\n",
            "  _warn_prf(average, modifier, msg_start, len(result))\n"
          ]
        }
      ]
    }
  ]
}