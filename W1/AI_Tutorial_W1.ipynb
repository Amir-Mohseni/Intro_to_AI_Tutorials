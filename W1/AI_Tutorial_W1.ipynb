{
 "cells": [
  {
   "cell_type": "markdown",
   "metadata": {
    "id": "k4yarBHkMEo3"
   },
   "source": [
    "# Intro to AI - Lab 1\n",
    "## Author: Amir Mohseni\n",
    "## Student ID: i6356969"
   ]
  },
  {
   "cell_type": "markdown",
   "metadata": {
    "id": "1WOlEXCjkVQ0"
   },
   "source": [
    "# Rule-Based Prediction"
   ]
  },
  {
   "cell_type": "markdown",
   "metadata": {
    "id": "zxaxru5zkSUh"
   },
   "source": [
    "##  Import Libraries and Load the Data\n",
    "Firstly, we read the data and load them into dataframes."
   ]
  },
  {
   "cell_type": "code",
   "execution_count": 2,
   "metadata": {
    "id": "1zQnLJ-djYEn"
   },
   "outputs": [],
   "source": [
    "import pandas as pd\n",
    "from sklearn.metrics import accuracy_score\n",
    "\n",
    "# Load the datasets\n",
    "train_data = pd.read_csv('./set2_500_patients.csv')\n",
    "test_data = pd.read_excel('./set3_500_patients.xlsx')"
   ]
  },
  {
   "cell_type": "markdown",
   "metadata": {
    "id": "5yfmayR8kNjR"
   },
   "source": [
    "## Define the Rule-Based Prediction Function\n",
    "Using some estimates using recommended weights given by Chatgpt, we try to create a rule-based predictor. In this method, we assign weights to different factors that might have influence on our outcome. We usually want to make significant factors, more impactful. Therefore, we lower their threshold."
   ]
  },
  {
   "cell_type": "code",
   "execution_count": 3,
   "metadata": {
    "id": "Dx5DghwQjHQe"
   },
   "outputs": [],
   "source": [
    "# Define a rule-based prediction function for heart attacks\n",
    "def predict_heart_attack(row):\n",
    "    risk_score = 0\n",
    "    if row['hypertension'] > 0.8:\n",
    "        risk_score += 1\n",
    "    if row['smoker'] > 0.7:\n",
    "        risk_score += 1\n",
    "    if row['overweight'] > 0.7:\n",
    "        risk_score += 1\n",
    "    if row['family_history'] > 0.5:\n",
    "        risk_score += 1\n",
    "    if row['alertness'] < 0.5:\n",
    "        risk_score += 1\n",
    "    # Return True (heart attack) if risk score is greater than 2\n",
    "    return risk_score > 2"
   ]
  },
  {
   "cell_type": "markdown",
   "metadata": {
    "id": "zaxBfSBgks50"
   },
   "source": [
    "## Apply the Prediction Function to the Training and Test Data"
   ]
  },
  {
   "cell_type": "code",
   "execution_count": 4,
   "metadata": {
    "colab": {
     "base_uri": "https://localhost:8080/",
     "height": 206
    },
    "id": "oU61s0FSjN3R",
    "outputId": "218c97fb-6801-46bd-8632-a26383ccfd00"
   },
   "outputs": [
    {
     "data": {
      "application/vnd.google.colaboratory.intrinsic+json": {
       "summary": "{\n  \"name\": \"train_data[['heart_attack', 'predicted_heart_attack']]\",\n  \"rows\": 5,\n  \"fields\": [\n    {\n      \"column\": \"heart_attack\",\n      \"properties\": {\n        \"dtype\": \"boolean\",\n        \"num_unique_values\": 1,\n        \"samples\": [\n          false\n        ],\n        \"semantic_type\": \"\",\n        \"description\": \"\"\n      }\n    },\n    {\n      \"column\": \"predicted_heart_attack\",\n      \"properties\": {\n        \"dtype\": \"boolean\",\n        \"num_unique_values\": 1,\n        \"samples\": [\n          false\n        ],\n        \"semantic_type\": \"\",\n        \"description\": \"\"\n      }\n    }\n  ]\n}",
       "type": "dataframe"
      },
      "text/html": [
       "\n",
       "  <div id=\"df-089731d3-14e2-458d-b3ef-813d3f13e8d2\" class=\"colab-df-container\">\n",
       "    <div>\n",
       "<style scoped>\n",
       "    .dataframe tbody tr th:only-of-type {\n",
       "        vertical-align: middle;\n",
       "    }\n",
       "\n",
       "    .dataframe tbody tr th {\n",
       "        vertical-align: top;\n",
       "    }\n",
       "\n",
       "    .dataframe thead th {\n",
       "        text-align: right;\n",
       "    }\n",
       "</style>\n",
       "<table border=\"1\" class=\"dataframe\">\n",
       "  <thead>\n",
       "    <tr style=\"text-align: right;\">\n",
       "      <th></th>\n",
       "      <th>heart_attack</th>\n",
       "      <th>predicted_heart_attack</th>\n",
       "    </tr>\n",
       "  </thead>\n",
       "  <tbody>\n",
       "    <tr>\n",
       "      <th>0</th>\n",
       "      <td>False</td>\n",
       "      <td>False</td>\n",
       "    </tr>\n",
       "    <tr>\n",
       "      <th>1</th>\n",
       "      <td>False</td>\n",
       "      <td>False</td>\n",
       "    </tr>\n",
       "    <tr>\n",
       "      <th>2</th>\n",
       "      <td>False</td>\n",
       "      <td>False</td>\n",
       "    </tr>\n",
       "    <tr>\n",
       "      <th>3</th>\n",
       "      <td>False</td>\n",
       "      <td>False</td>\n",
       "    </tr>\n",
       "    <tr>\n",
       "      <th>4</th>\n",
       "      <td>False</td>\n",
       "      <td>False</td>\n",
       "    </tr>\n",
       "  </tbody>\n",
       "</table>\n",
       "</div>\n",
       "    <div class=\"colab-df-buttons\">\n",
       "\n",
       "  <div class=\"colab-df-container\">\n",
       "    <button class=\"colab-df-convert\" onclick=\"convertToInteractive('df-089731d3-14e2-458d-b3ef-813d3f13e8d2')\"\n",
       "            title=\"Convert this dataframe to an interactive table.\"\n",
       "            style=\"display:none;\">\n",
       "\n",
       "  <svg xmlns=\"http://www.w3.org/2000/svg\" height=\"24px\" viewBox=\"0 -960 960 960\">\n",
       "    <path d=\"M120-120v-720h720v720H120Zm60-500h600v-160H180v160Zm220 220h160v-160H400v160Zm0 220h160v-160H400v160ZM180-400h160v-160H180v160Zm440 0h160v-160H620v160ZM180-180h160v-160H180v160Zm440 0h160v-160H620v160Z\"/>\n",
       "  </svg>\n",
       "    </button>\n",
       "\n",
       "  <style>\n",
       "    .colab-df-container {\n",
       "      display:flex;\n",
       "      gap: 12px;\n",
       "    }\n",
       "\n",
       "    .colab-df-convert {\n",
       "      background-color: #E8F0FE;\n",
       "      border: none;\n",
       "      border-radius: 50%;\n",
       "      cursor: pointer;\n",
       "      display: none;\n",
       "      fill: #1967D2;\n",
       "      height: 32px;\n",
       "      padding: 0 0 0 0;\n",
       "      width: 32px;\n",
       "    }\n",
       "\n",
       "    .colab-df-convert:hover {\n",
       "      background-color: #E2EBFA;\n",
       "      box-shadow: 0px 1px 2px rgba(60, 64, 67, 0.3), 0px 1px 3px 1px rgba(60, 64, 67, 0.15);\n",
       "      fill: #174EA6;\n",
       "    }\n",
       "\n",
       "    .colab-df-buttons div {\n",
       "      margin-bottom: 4px;\n",
       "    }\n",
       "\n",
       "    [theme=dark] .colab-df-convert {\n",
       "      background-color: #3B4455;\n",
       "      fill: #D2E3FC;\n",
       "    }\n",
       "\n",
       "    [theme=dark] .colab-df-convert:hover {\n",
       "      background-color: #434B5C;\n",
       "      box-shadow: 0px 1px 3px 1px rgba(0, 0, 0, 0.15);\n",
       "      filter: drop-shadow(0px 1px 2px rgba(0, 0, 0, 0.3));\n",
       "      fill: #FFFFFF;\n",
       "    }\n",
       "  </style>\n",
       "\n",
       "    <script>\n",
       "      const buttonEl =\n",
       "        document.querySelector('#df-089731d3-14e2-458d-b3ef-813d3f13e8d2 button.colab-df-convert');\n",
       "      buttonEl.style.display =\n",
       "        google.colab.kernel.accessAllowed ? 'block' : 'none';\n",
       "\n",
       "      async function convertToInteractive(key) {\n",
       "        const element = document.querySelector('#df-089731d3-14e2-458d-b3ef-813d3f13e8d2');\n",
       "        const dataTable =\n",
       "          await google.colab.kernel.invokeFunction('convertToInteractive',\n",
       "                                                    [key], {});\n",
       "        if (!dataTable) return;\n",
       "\n",
       "        const docLinkHtml = 'Like what you see? Visit the ' +\n",
       "          '<a target=\"_blank\" href=https://colab.research.google.com/notebooks/data_table.ipynb>data table notebook</a>'\n",
       "          + ' to learn more about interactive tables.';\n",
       "        element.innerHTML = '';\n",
       "        dataTable['output_type'] = 'display_data';\n",
       "        await google.colab.output.renderOutput(dataTable, element);\n",
       "        const docLink = document.createElement('div');\n",
       "        docLink.innerHTML = docLinkHtml;\n",
       "        element.appendChild(docLink);\n",
       "      }\n",
       "    </script>\n",
       "  </div>\n",
       "\n",
       "\n",
       "<div id=\"df-f5637004-e51b-494f-b514-61bbf0253a2d\">\n",
       "  <button class=\"colab-df-quickchart\" onclick=\"quickchart('df-f5637004-e51b-494f-b514-61bbf0253a2d')\"\n",
       "            title=\"Suggest charts\"\n",
       "            style=\"display:none;\">\n",
       "\n",
       "<svg xmlns=\"http://www.w3.org/2000/svg\" height=\"24px\"viewBox=\"0 0 24 24\"\n",
       "     width=\"24px\">\n",
       "    <g>\n",
       "        <path d=\"M19 3H5c-1.1 0-2 .9-2 2v14c0 1.1.9 2 2 2h14c1.1 0 2-.9 2-2V5c0-1.1-.9-2-2-2zM9 17H7v-7h2v7zm4 0h-2V7h2v10zm4 0h-2v-4h2v4z\"/>\n",
       "    </g>\n",
       "</svg>\n",
       "  </button>\n",
       "\n",
       "<style>\n",
       "  .colab-df-quickchart {\n",
       "      --bg-color: #E8F0FE;\n",
       "      --fill-color: #1967D2;\n",
       "      --hover-bg-color: #E2EBFA;\n",
       "      --hover-fill-color: #174EA6;\n",
       "      --disabled-fill-color: #AAA;\n",
       "      --disabled-bg-color: #DDD;\n",
       "  }\n",
       "\n",
       "  [theme=dark] .colab-df-quickchart {\n",
       "      --bg-color: #3B4455;\n",
       "      --fill-color: #D2E3FC;\n",
       "      --hover-bg-color: #434B5C;\n",
       "      --hover-fill-color: #FFFFFF;\n",
       "      --disabled-bg-color: #3B4455;\n",
       "      --disabled-fill-color: #666;\n",
       "  }\n",
       "\n",
       "  .colab-df-quickchart {\n",
       "    background-color: var(--bg-color);\n",
       "    border: none;\n",
       "    border-radius: 50%;\n",
       "    cursor: pointer;\n",
       "    display: none;\n",
       "    fill: var(--fill-color);\n",
       "    height: 32px;\n",
       "    padding: 0;\n",
       "    width: 32px;\n",
       "  }\n",
       "\n",
       "  .colab-df-quickchart:hover {\n",
       "    background-color: var(--hover-bg-color);\n",
       "    box-shadow: 0 1px 2px rgba(60, 64, 67, 0.3), 0 1px 3px 1px rgba(60, 64, 67, 0.15);\n",
       "    fill: var(--button-hover-fill-color);\n",
       "  }\n",
       "\n",
       "  .colab-df-quickchart-complete:disabled,\n",
       "  .colab-df-quickchart-complete:disabled:hover {\n",
       "    background-color: var(--disabled-bg-color);\n",
       "    fill: var(--disabled-fill-color);\n",
       "    box-shadow: none;\n",
       "  }\n",
       "\n",
       "  .colab-df-spinner {\n",
       "    border: 2px solid var(--fill-color);\n",
       "    border-color: transparent;\n",
       "    border-bottom-color: var(--fill-color);\n",
       "    animation:\n",
       "      spin 1s steps(1) infinite;\n",
       "  }\n",
       "\n",
       "  @keyframes spin {\n",
       "    0% {\n",
       "      border-color: transparent;\n",
       "      border-bottom-color: var(--fill-color);\n",
       "      border-left-color: var(--fill-color);\n",
       "    }\n",
       "    20% {\n",
       "      border-color: transparent;\n",
       "      border-left-color: var(--fill-color);\n",
       "      border-top-color: var(--fill-color);\n",
       "    }\n",
       "    30% {\n",
       "      border-color: transparent;\n",
       "      border-left-color: var(--fill-color);\n",
       "      border-top-color: var(--fill-color);\n",
       "      border-right-color: var(--fill-color);\n",
       "    }\n",
       "    40% {\n",
       "      border-color: transparent;\n",
       "      border-right-color: var(--fill-color);\n",
       "      border-top-color: var(--fill-color);\n",
       "    }\n",
       "    60% {\n",
       "      border-color: transparent;\n",
       "      border-right-color: var(--fill-color);\n",
       "    }\n",
       "    80% {\n",
       "      border-color: transparent;\n",
       "      border-right-color: var(--fill-color);\n",
       "      border-bottom-color: var(--fill-color);\n",
       "    }\n",
       "    90% {\n",
       "      border-color: transparent;\n",
       "      border-bottom-color: var(--fill-color);\n",
       "    }\n",
       "  }\n",
       "</style>\n",
       "\n",
       "  <script>\n",
       "    async function quickchart(key) {\n",
       "      const quickchartButtonEl =\n",
       "        document.querySelector('#' + key + ' button');\n",
       "      quickchartButtonEl.disabled = true;  // To prevent multiple clicks.\n",
       "      quickchartButtonEl.classList.add('colab-df-spinner');\n",
       "      try {\n",
       "        const charts = await google.colab.kernel.invokeFunction(\n",
       "            'suggestCharts', [key], {});\n",
       "      } catch (error) {\n",
       "        console.error('Error during call to suggestCharts:', error);\n",
       "      }\n",
       "      quickchartButtonEl.classList.remove('colab-df-spinner');\n",
       "      quickchartButtonEl.classList.add('colab-df-quickchart-complete');\n",
       "    }\n",
       "    (() => {\n",
       "      let quickchartButtonEl =\n",
       "        document.querySelector('#df-f5637004-e51b-494f-b514-61bbf0253a2d button');\n",
       "      quickchartButtonEl.style.display =\n",
       "        google.colab.kernel.accessAllowed ? 'block' : 'none';\n",
       "    })();\n",
       "  </script>\n",
       "</div>\n",
       "\n",
       "    </div>\n",
       "  </div>\n"
      ],
      "text/plain": [
       "   heart_attack  predicted_heart_attack\n",
       "0         False                   False\n",
       "1         False                   False\n",
       "2         False                   False\n",
       "3         False                   False\n",
       "4         False                   False"
      ]
     },
     "execution_count": 4,
     "metadata": {},
     "output_type": "execute_result"
    }
   ],
   "source": [
    "# Apply the rule-based model to the training and test data\n",
    "train_data['predicted_heart_attack'] = train_data.apply(predict_heart_attack, axis=1)\n",
    "test_data['predicted_heart_attack'] = test_data.apply(predict_heart_attack, axis=1)\n",
    "\n",
    "# Display the first few rows to check the predictions\n",
    "train_data[['heart_attack', 'predicted_heart_attack']].head()"
   ]
  },
  {
   "cell_type": "markdown",
   "metadata": {
    "id": "3rQWzfZLkv83"
   },
   "source": [
    "## Calculate the Accuracy on the Training Data"
   ]
  },
  {
   "cell_type": "code",
   "execution_count": 5,
   "metadata": {
    "colab": {
     "base_uri": "https://localhost:8080/",
     "height": 0
    },
    "id": "YAyAdsZfjgBN",
    "outputId": "447fc61f-8d4e-4313-cefc-aea83faf63e0"
   },
   "outputs": [
    {
     "name": "stdout",
     "output_type": "stream",
     "text": [
      "Training Accuracy: 87.69%\n"
     ]
    }
   ],
   "source": [
    "# Calculate the accuracy for the training data\n",
    "train_accuracy = accuracy_score(train_data['heart_attack'], train_data['predicted_heart_attack'])\n",
    "\n",
    "# Display the training accuracy\n",
    "print(f\"Training Accuracy: {train_accuracy * 100:.2f}%\")"
   ]
  },
  {
   "cell_type": "markdown",
   "metadata": {
    "id": "uZuD5nvUkzYX"
   },
   "source": [
    "## Calculate the Accuracy on the Test Data"
   ]
  },
  {
   "cell_type": "code",
   "execution_count": 6,
   "metadata": {
    "colab": {
     "base_uri": "https://localhost:8080/",
     "height": 0
    },
    "id": "_BPbMG0Hjhin",
    "outputId": "569c9258-b2d7-45cd-ea95-ca937033d592"
   },
   "outputs": [
    {
     "name": "stdout",
     "output_type": "stream",
     "text": [
      "Test Accuracy: 86.25%\n"
     ]
    }
   ],
   "source": [
    "# Calculate the accuracy for the test data\n",
    "test_accuracy = accuracy_score(test_data['heart_attack'], test_data['predicted_heart_attack'])\n",
    "\n",
    "# Display the test accuracy\n",
    "print(f\"Test Accuracy: {test_accuracy * 100:.2f}%\")"
   ]
  },
  {
   "cell_type": "markdown",
   "metadata": {
    "id": "L4tGJ7unk1p8"
   },
   "source": [
    "The accuracy is quite good considering this is just a very simple rule-based approach. As we're going to see later, there is a high bias in the data. This might make our models accuracies unreliable."
   ]
  },
  {
   "cell_type": "markdown",
   "metadata": {
    "id": "GnGP_qBHlZpB"
   },
   "source": [
    "# Logistic Regression Approach"
   ]
  },
  {
   "cell_type": "markdown",
   "metadata": {
    "id": "QC2P2dOpBzsN"
   },
   "source": [
    "# 1. Read the training data"
   ]
  },
  {
   "cell_type": "markdown",
   "metadata": {
    "id": "hT6hwahEa9uE"
   },
   "source": [
    "Firstly, we need to read the data and set a datafame for it. Using the **pandas** library in python, we can do this. Then, we can also take a look at a few examples of how the dataframe looks to see if we need to change their formatting in any way."
   ]
  },
  {
   "cell_type": "code",
   "execution_count": null,
   "metadata": {
    "colab": {
     "base_uri": "https://localhost:8080/",
     "height": 244
    },
    "id": "MhILEh1rwKTo",
    "outputId": "1780f9e5-b6e1-45d7-96cf-eb6d46d9cf00"
   },
   "outputs": [
    {
     "data": {
      "application/vnd.google.colaboratory.intrinsic+json": {
       "type": "dataframe",
       "variable_name": "df"
      },
      "text/html": [
       "\n",
       "  <div id=\"df-b1088d3a-2571-4c80-bd6a-d619a56b6b61\" class=\"colab-df-container\">\n",
       "    <div>\n",
       "<style scoped>\n",
       "    .dataframe tbody tr th:only-of-type {\n",
       "        vertical-align: middle;\n",
       "    }\n",
       "\n",
       "    .dataframe tbody tr th {\n",
       "        vertical-align: top;\n",
       "    }\n",
       "\n",
       "    .dataframe thead th {\n",
       "        text-align: right;\n",
       "    }\n",
       "</style>\n",
       "<table border=\"1\" class=\"dataframe\">\n",
       "  <thead>\n",
       "    <tr style=\"text-align: right;\">\n",
       "      <th></th>\n",
       "      <th>Unnamed: 0</th>\n",
       "      <th>day</th>\n",
       "      <th>hour</th>\n",
       "      <th>action</th>\n",
       "      <th>alertness</th>\n",
       "      <th>hypertension</th>\n",
       "      <th>intoxication</th>\n",
       "      <th>heart_attack</th>\n",
       "      <th>accident</th>\n",
       "      <th>smoker</th>\n",
       "      <th>overweight</th>\n",
       "      <th>family_history</th>\n",
       "      <th>goof_ball</th>\n",
       "      <th>subject</th>\n",
       "    </tr>\n",
       "  </thead>\n",
       "  <tbody>\n",
       "    <tr>\n",
       "      <th>0</th>\n",
       "      <td>0</td>\n",
       "      <td>0</td>\n",
       "      <td>0</td>\n",
       "      <td>coffee</td>\n",
       "      <td>1.394465</td>\n",
       "      <td>0.114070</td>\n",
       "      <td>0.0</td>\n",
       "      <td>False</td>\n",
       "      <td>False</td>\n",
       "      <td>0.671647</td>\n",
       "      <td>0.730691</td>\n",
       "      <td>0.322668</td>\n",
       "      <td>0.653565</td>\n",
       "      <td>0</td>\n",
       "    </tr>\n",
       "    <tr>\n",
       "      <th>1</th>\n",
       "      <td>1</td>\n",
       "      <td>0</td>\n",
       "      <td>1</td>\n",
       "      <td>sleep</td>\n",
       "      <td>0.774357</td>\n",
       "      <td>0.067966</td>\n",
       "      <td>0.0</td>\n",
       "      <td>False</td>\n",
       "      <td>False</td>\n",
       "      <td>0.671647</td>\n",
       "      <td>0.730691</td>\n",
       "      <td>0.322668</td>\n",
       "      <td>0.653565</td>\n",
       "      <td>0</td>\n",
       "    </tr>\n",
       "    <tr>\n",
       "      <th>2</th>\n",
       "      <td>2</td>\n",
       "      <td>0</td>\n",
       "      <td>2</td>\n",
       "      <td>sleep</td>\n",
       "      <td>1.281268</td>\n",
       "      <td>0.040496</td>\n",
       "      <td>0.0</td>\n",
       "      <td>False</td>\n",
       "      <td>False</td>\n",
       "      <td>0.671647</td>\n",
       "      <td>0.730691</td>\n",
       "      <td>0.322668</td>\n",
       "      <td>0.653565</td>\n",
       "      <td>0</td>\n",
       "    </tr>\n",
       "    <tr>\n",
       "      <th>3</th>\n",
       "      <td>3</td>\n",
       "      <td>0</td>\n",
       "      <td>3</td>\n",
       "      <td>sleep</td>\n",
       "      <td>1.123732</td>\n",
       "      <td>0.024128</td>\n",
       "      <td>0.0</td>\n",
       "      <td>False</td>\n",
       "      <td>False</td>\n",
       "      <td>0.671647</td>\n",
       "      <td>0.730691</td>\n",
       "      <td>0.322668</td>\n",
       "      <td>0.653565</td>\n",
       "      <td>0</td>\n",
       "    </tr>\n",
       "    <tr>\n",
       "      <th>4</th>\n",
       "      <td>4</td>\n",
       "      <td>0</td>\n",
       "      <td>4</td>\n",
       "      <td>sleep</td>\n",
       "      <td>1.247691</td>\n",
       "      <td>0.014376</td>\n",
       "      <td>0.0</td>\n",
       "      <td>False</td>\n",
       "      <td>False</td>\n",
       "      <td>0.671647</td>\n",
       "      <td>0.730691</td>\n",
       "      <td>0.322668</td>\n",
       "      <td>0.653565</td>\n",
       "      <td>0</td>\n",
       "    </tr>\n",
       "  </tbody>\n",
       "</table>\n",
       "</div>\n",
       "    <div class=\"colab-df-buttons\">\n",
       "\n",
       "  <div class=\"colab-df-container\">\n",
       "    <button class=\"colab-df-convert\" onclick=\"convertToInteractive('df-b1088d3a-2571-4c80-bd6a-d619a56b6b61')\"\n",
       "            title=\"Convert this dataframe to an interactive table.\"\n",
       "            style=\"display:none;\">\n",
       "\n",
       "  <svg xmlns=\"http://www.w3.org/2000/svg\" height=\"24px\" viewBox=\"0 -960 960 960\">\n",
       "    <path d=\"M120-120v-720h720v720H120Zm60-500h600v-160H180v160Zm220 220h160v-160H400v160Zm0 220h160v-160H400v160ZM180-400h160v-160H180v160Zm440 0h160v-160H620v160ZM180-180h160v-160H180v160Zm440 0h160v-160H620v160Z\"/>\n",
       "  </svg>\n",
       "    </button>\n",
       "\n",
       "  <style>\n",
       "    .colab-df-container {\n",
       "      display:flex;\n",
       "      gap: 12px;\n",
       "    }\n",
       "\n",
       "    .colab-df-convert {\n",
       "      background-color: #E8F0FE;\n",
       "      border: none;\n",
       "      border-radius: 50%;\n",
       "      cursor: pointer;\n",
       "      display: none;\n",
       "      fill: #1967D2;\n",
       "      height: 32px;\n",
       "      padding: 0 0 0 0;\n",
       "      width: 32px;\n",
       "    }\n",
       "\n",
       "    .colab-df-convert:hover {\n",
       "      background-color: #E2EBFA;\n",
       "      box-shadow: 0px 1px 2px rgba(60, 64, 67, 0.3), 0px 1px 3px 1px rgba(60, 64, 67, 0.15);\n",
       "      fill: #174EA6;\n",
       "    }\n",
       "\n",
       "    .colab-df-buttons div {\n",
       "      margin-bottom: 4px;\n",
       "    }\n",
       "\n",
       "    [theme=dark] .colab-df-convert {\n",
       "      background-color: #3B4455;\n",
       "      fill: #D2E3FC;\n",
       "    }\n",
       "\n",
       "    [theme=dark] .colab-df-convert:hover {\n",
       "      background-color: #434B5C;\n",
       "      box-shadow: 0px 1px 3px 1px rgba(0, 0, 0, 0.15);\n",
       "      filter: drop-shadow(0px 1px 2px rgba(0, 0, 0, 0.3));\n",
       "      fill: #FFFFFF;\n",
       "    }\n",
       "  </style>\n",
       "\n",
       "    <script>\n",
       "      const buttonEl =\n",
       "        document.querySelector('#df-b1088d3a-2571-4c80-bd6a-d619a56b6b61 button.colab-df-convert');\n",
       "      buttonEl.style.display =\n",
       "        google.colab.kernel.accessAllowed ? 'block' : 'none';\n",
       "\n",
       "      async function convertToInteractive(key) {\n",
       "        const element = document.querySelector('#df-b1088d3a-2571-4c80-bd6a-d619a56b6b61');\n",
       "        const dataTable =\n",
       "          await google.colab.kernel.invokeFunction('convertToInteractive',\n",
       "                                                    [key], {});\n",
       "        if (!dataTable) return;\n",
       "\n",
       "        const docLinkHtml = 'Like what you see? Visit the ' +\n",
       "          '<a target=\"_blank\" href=https://colab.research.google.com/notebooks/data_table.ipynb>data table notebook</a>'\n",
       "          + ' to learn more about interactive tables.';\n",
       "        element.innerHTML = '';\n",
       "        dataTable['output_type'] = 'display_data';\n",
       "        await google.colab.output.renderOutput(dataTable, element);\n",
       "        const docLink = document.createElement('div');\n",
       "        docLink.innerHTML = docLinkHtml;\n",
       "        element.appendChild(docLink);\n",
       "      }\n",
       "    </script>\n",
       "  </div>\n",
       "\n",
       "\n",
       "<div id=\"df-4e67c7a5-4ea7-43b7-808f-17c54cb7070f\">\n",
       "  <button class=\"colab-df-quickchart\" onclick=\"quickchart('df-4e67c7a5-4ea7-43b7-808f-17c54cb7070f')\"\n",
       "            title=\"Suggest charts\"\n",
       "            style=\"display:none;\">\n",
       "\n",
       "<svg xmlns=\"http://www.w3.org/2000/svg\" height=\"24px\"viewBox=\"0 0 24 24\"\n",
       "     width=\"24px\">\n",
       "    <g>\n",
       "        <path d=\"M19 3H5c-1.1 0-2 .9-2 2v14c0 1.1.9 2 2 2h14c1.1 0 2-.9 2-2V5c0-1.1-.9-2-2-2zM9 17H7v-7h2v7zm4 0h-2V7h2v10zm4 0h-2v-4h2v4z\"/>\n",
       "    </g>\n",
       "</svg>\n",
       "  </button>\n",
       "\n",
       "<style>\n",
       "  .colab-df-quickchart {\n",
       "      --bg-color: #E8F0FE;\n",
       "      --fill-color: #1967D2;\n",
       "      --hover-bg-color: #E2EBFA;\n",
       "      --hover-fill-color: #174EA6;\n",
       "      --disabled-fill-color: #AAA;\n",
       "      --disabled-bg-color: #DDD;\n",
       "  }\n",
       "\n",
       "  [theme=dark] .colab-df-quickchart {\n",
       "      --bg-color: #3B4455;\n",
       "      --fill-color: #D2E3FC;\n",
       "      --hover-bg-color: #434B5C;\n",
       "      --hover-fill-color: #FFFFFF;\n",
       "      --disabled-bg-color: #3B4455;\n",
       "      --disabled-fill-color: #666;\n",
       "  }\n",
       "\n",
       "  .colab-df-quickchart {\n",
       "    background-color: var(--bg-color);\n",
       "    border: none;\n",
       "    border-radius: 50%;\n",
       "    cursor: pointer;\n",
       "    display: none;\n",
       "    fill: var(--fill-color);\n",
       "    height: 32px;\n",
       "    padding: 0;\n",
       "    width: 32px;\n",
       "  }\n",
       "\n",
       "  .colab-df-quickchart:hover {\n",
       "    background-color: var(--hover-bg-color);\n",
       "    box-shadow: 0 1px 2px rgba(60, 64, 67, 0.3), 0 1px 3px 1px rgba(60, 64, 67, 0.15);\n",
       "    fill: var(--button-hover-fill-color);\n",
       "  }\n",
       "\n",
       "  .colab-df-quickchart-complete:disabled,\n",
       "  .colab-df-quickchart-complete:disabled:hover {\n",
       "    background-color: var(--disabled-bg-color);\n",
       "    fill: var(--disabled-fill-color);\n",
       "    box-shadow: none;\n",
       "  }\n",
       "\n",
       "  .colab-df-spinner {\n",
       "    border: 2px solid var(--fill-color);\n",
       "    border-color: transparent;\n",
       "    border-bottom-color: var(--fill-color);\n",
       "    animation:\n",
       "      spin 1s steps(1) infinite;\n",
       "  }\n",
       "\n",
       "  @keyframes spin {\n",
       "    0% {\n",
       "      border-color: transparent;\n",
       "      border-bottom-color: var(--fill-color);\n",
       "      border-left-color: var(--fill-color);\n",
       "    }\n",
       "    20% {\n",
       "      border-color: transparent;\n",
       "      border-left-color: var(--fill-color);\n",
       "      border-top-color: var(--fill-color);\n",
       "    }\n",
       "    30% {\n",
       "      border-color: transparent;\n",
       "      border-left-color: var(--fill-color);\n",
       "      border-top-color: var(--fill-color);\n",
       "      border-right-color: var(--fill-color);\n",
       "    }\n",
       "    40% {\n",
       "      border-color: transparent;\n",
       "      border-right-color: var(--fill-color);\n",
       "      border-top-color: var(--fill-color);\n",
       "    }\n",
       "    60% {\n",
       "      border-color: transparent;\n",
       "      border-right-color: var(--fill-color);\n",
       "    }\n",
       "    80% {\n",
       "      border-color: transparent;\n",
       "      border-right-color: var(--fill-color);\n",
       "      border-bottom-color: var(--fill-color);\n",
       "    }\n",
       "    90% {\n",
       "      border-color: transparent;\n",
       "      border-bottom-color: var(--fill-color);\n",
       "    }\n",
       "  }\n",
       "</style>\n",
       "\n",
       "  <script>\n",
       "    async function quickchart(key) {\n",
       "      const quickchartButtonEl =\n",
       "        document.querySelector('#' + key + ' button');\n",
       "      quickchartButtonEl.disabled = true;  // To prevent multiple clicks.\n",
       "      quickchartButtonEl.classList.add('colab-df-spinner');\n",
       "      try {\n",
       "        const charts = await google.colab.kernel.invokeFunction(\n",
       "            'suggestCharts', [key], {});\n",
       "      } catch (error) {\n",
       "        console.error('Error during call to suggestCharts:', error);\n",
       "      }\n",
       "      quickchartButtonEl.classList.remove('colab-df-spinner');\n",
       "      quickchartButtonEl.classList.add('colab-df-quickchart-complete');\n",
       "    }\n",
       "    (() => {\n",
       "      let quickchartButtonEl =\n",
       "        document.querySelector('#df-4e67c7a5-4ea7-43b7-808f-17c54cb7070f button');\n",
       "      quickchartButtonEl.style.display =\n",
       "        google.colab.kernel.accessAllowed ? 'block' : 'none';\n",
       "    })();\n",
       "  </script>\n",
       "</div>\n",
       "\n",
       "    </div>\n",
       "  </div>\n"
      ],
      "text/plain": [
       "   Unnamed: 0  day  hour  action  alertness  hypertension  intoxication  \\\n",
       "0           0    0     0  coffee   1.394465      0.114070           0.0   \n",
       "1           1    0     1   sleep   0.774357      0.067966           0.0   \n",
       "2           2    0     2   sleep   1.281268      0.040496           0.0   \n",
       "3           3    0     3   sleep   1.123732      0.024128           0.0   \n",
       "4           4    0     4   sleep   1.247691      0.014376           0.0   \n",
       "\n",
       "   heart_attack  accident    smoker  overweight  family_history  goof_ball  \\\n",
       "0         False     False  0.671647    0.730691        0.322668   0.653565   \n",
       "1         False     False  0.671647    0.730691        0.322668   0.653565   \n",
       "2         False     False  0.671647    0.730691        0.322668   0.653565   \n",
       "3         False     False  0.671647    0.730691        0.322668   0.653565   \n",
       "4         False     False  0.671647    0.730691        0.322668   0.653565   \n",
       "\n",
       "   subject  \n",
       "0        0  \n",
       "1        0  \n",
       "2        0  \n",
       "3        0  \n",
       "4        0  "
      ]
     },
     "execution_count": 105,
     "metadata": {},
     "output_type": "execute_result"
    }
   ],
   "source": [
    "import pandas as pd\n",
    "\n",
    "# Convert to df\n",
    "df = pd.read_csv('/content/set2_500_patients.csv')\n",
    "\n",
    "# Display the first few rows of the dataframe\n",
    "df.head()"
   ]
  },
  {
   "cell_type": "markdown",
   "metadata": {
    "id": "rPTfRrxwB33V"
   },
   "source": [
    "# 2. Formatting the train data\n",
    "Firstly, we have a column named \"Unnamed: 0\" which contains the index number for each row. Since we already have the indices for each row in our dataframe, we can just drop this column."
   ]
  },
  {
   "cell_type": "code",
   "execution_count": null,
   "metadata": {
    "id": "djTvsMJA1-Ij"
   },
   "outputs": [],
   "source": [
    "df = df.drop('Unnamed: 0', axis=1)"
   ]
  },
  {
   "cell_type": "markdown",
   "metadata": {
    "id": "hO2SXX-GblhK"
   },
   "source": [
    "The action column, tries to map an action to each row, these actions are:\n",
    "**Coffee, Sleep, Alcohol, Nothing, Work, Patient dead** which corespond to different states. Since, we want our model to use this data for prediction, we need to convert it to real numbers. For this instance, we convert them to unique numbers from 0 to 5 for each class. After mapping, we try to apply this mapping our dataframe."
   ]
  },
  {
   "cell_type": "code",
   "execution_count": null,
   "metadata": {
    "id": "h4cOBALU1sS7"
   },
   "outputs": [],
   "source": [
    "action_mapping = {\n",
    "    'coffee': 0,\n",
    "    'sleep': 1,\n",
    "    'alcohol': 2,\n",
    "    'nothing': 3,\n",
    "    'work': 4,\n",
    "    'patient died': 5\n",
    "}\n",
    "\n",
    "# Apply the mapping to the 'action' column\n",
    "df['action'] = df['action'].map(action_mapping)\n"
   ]
  },
  {
   "cell_type": "markdown",
   "metadata": {
    "id": "lBEE7KcAccAH"
   },
   "source": [
    "In our dataframe, the columns for accident and heart attack are booleans. If the person had a heart attack or an accident, the value would be **True** for the corresponding column, and if not, it would be **False**. To make predictions possible, we need to convert these numbers to 0 and 1.\n",
    "\n",
    "**0: Negative**\n",
    "\n",
    "**1: Positive**"
   ]
  },
  {
   "cell_type": "code",
   "execution_count": null,
   "metadata": {
    "id": "7VflQCdyzjMt"
   },
   "outputs": [],
   "source": [
    "# Convert boolean columns to 0 and 1\n",
    "boolean_columns = ['accident', 'heart_attack']\n",
    "for col in boolean_columns:\n",
    "  df[col] = df[col].apply(lambda x: 1 if x == True else 0)"
   ]
  },
  {
   "cell_type": "code",
   "execution_count": null,
   "metadata": {
    "colab": {
     "base_uri": "https://localhost:8080/",
     "height": 226
    },
    "id": "EeNE6pVQ80-f",
    "outputId": "ed50344e-c67a-42bb-93c9-481b5b01da23"
   },
   "outputs": [
    {
     "data": {
      "application/vnd.google.colaboratory.intrinsic+json": {
       "type": "dataframe",
       "variable_name": "df"
      },
      "text/html": [
       "\n",
       "  <div id=\"df-234acd0e-9204-4399-b78a-786df21ba956\" class=\"colab-df-container\">\n",
       "    <div>\n",
       "<style scoped>\n",
       "    .dataframe tbody tr th:only-of-type {\n",
       "        vertical-align: middle;\n",
       "    }\n",
       "\n",
       "    .dataframe tbody tr th {\n",
       "        vertical-align: top;\n",
       "    }\n",
       "\n",
       "    .dataframe thead th {\n",
       "        text-align: right;\n",
       "    }\n",
       "</style>\n",
       "<table border=\"1\" class=\"dataframe\">\n",
       "  <thead>\n",
       "    <tr style=\"text-align: right;\">\n",
       "      <th></th>\n",
       "      <th>day</th>\n",
       "      <th>hour</th>\n",
       "      <th>action</th>\n",
       "      <th>alertness</th>\n",
       "      <th>hypertension</th>\n",
       "      <th>intoxication</th>\n",
       "      <th>heart_attack</th>\n",
       "      <th>accident</th>\n",
       "      <th>smoker</th>\n",
       "      <th>overweight</th>\n",
       "      <th>family_history</th>\n",
       "      <th>goof_ball</th>\n",
       "      <th>subject</th>\n",
       "    </tr>\n",
       "  </thead>\n",
       "  <tbody>\n",
       "    <tr>\n",
       "      <th>0</th>\n",
       "      <td>0</td>\n",
       "      <td>0</td>\n",
       "      <td>0</td>\n",
       "      <td>1.394465</td>\n",
       "      <td>0.114070</td>\n",
       "      <td>0.0</td>\n",
       "      <td>0</td>\n",
       "      <td>0</td>\n",
       "      <td>0.671647</td>\n",
       "      <td>0.730691</td>\n",
       "      <td>0.322668</td>\n",
       "      <td>0.653565</td>\n",
       "      <td>0</td>\n",
       "    </tr>\n",
       "    <tr>\n",
       "      <th>1</th>\n",
       "      <td>0</td>\n",
       "      <td>1</td>\n",
       "      <td>1</td>\n",
       "      <td>0.774357</td>\n",
       "      <td>0.067966</td>\n",
       "      <td>0.0</td>\n",
       "      <td>0</td>\n",
       "      <td>0</td>\n",
       "      <td>0.671647</td>\n",
       "      <td>0.730691</td>\n",
       "      <td>0.322668</td>\n",
       "      <td>0.653565</td>\n",
       "      <td>0</td>\n",
       "    </tr>\n",
       "    <tr>\n",
       "      <th>2</th>\n",
       "      <td>0</td>\n",
       "      <td>2</td>\n",
       "      <td>1</td>\n",
       "      <td>1.281268</td>\n",
       "      <td>0.040496</td>\n",
       "      <td>0.0</td>\n",
       "      <td>0</td>\n",
       "      <td>0</td>\n",
       "      <td>0.671647</td>\n",
       "      <td>0.730691</td>\n",
       "      <td>0.322668</td>\n",
       "      <td>0.653565</td>\n",
       "      <td>0</td>\n",
       "    </tr>\n",
       "    <tr>\n",
       "      <th>3</th>\n",
       "      <td>0</td>\n",
       "      <td>3</td>\n",
       "      <td>1</td>\n",
       "      <td>1.123732</td>\n",
       "      <td>0.024128</td>\n",
       "      <td>0.0</td>\n",
       "      <td>0</td>\n",
       "      <td>0</td>\n",
       "      <td>0.671647</td>\n",
       "      <td>0.730691</td>\n",
       "      <td>0.322668</td>\n",
       "      <td>0.653565</td>\n",
       "      <td>0</td>\n",
       "    </tr>\n",
       "    <tr>\n",
       "      <th>4</th>\n",
       "      <td>0</td>\n",
       "      <td>4</td>\n",
       "      <td>1</td>\n",
       "      <td>1.247691</td>\n",
       "      <td>0.014376</td>\n",
       "      <td>0.0</td>\n",
       "      <td>0</td>\n",
       "      <td>0</td>\n",
       "      <td>0.671647</td>\n",
       "      <td>0.730691</td>\n",
       "      <td>0.322668</td>\n",
       "      <td>0.653565</td>\n",
       "      <td>0</td>\n",
       "    </tr>\n",
       "  </tbody>\n",
       "</table>\n",
       "</div>\n",
       "    <div class=\"colab-df-buttons\">\n",
       "\n",
       "  <div class=\"colab-df-container\">\n",
       "    <button class=\"colab-df-convert\" onclick=\"convertToInteractive('df-234acd0e-9204-4399-b78a-786df21ba956')\"\n",
       "            title=\"Convert this dataframe to an interactive table.\"\n",
       "            style=\"display:none;\">\n",
       "\n",
       "  <svg xmlns=\"http://www.w3.org/2000/svg\" height=\"24px\" viewBox=\"0 -960 960 960\">\n",
       "    <path d=\"M120-120v-720h720v720H120Zm60-500h600v-160H180v160Zm220 220h160v-160H400v160Zm0 220h160v-160H400v160ZM180-400h160v-160H180v160Zm440 0h160v-160H620v160ZM180-180h160v-160H180v160Zm440 0h160v-160H620v160Z\"/>\n",
       "  </svg>\n",
       "    </button>\n",
       "\n",
       "  <style>\n",
       "    .colab-df-container {\n",
       "      display:flex;\n",
       "      gap: 12px;\n",
       "    }\n",
       "\n",
       "    .colab-df-convert {\n",
       "      background-color: #E8F0FE;\n",
       "      border: none;\n",
       "      border-radius: 50%;\n",
       "      cursor: pointer;\n",
       "      display: none;\n",
       "      fill: #1967D2;\n",
       "      height: 32px;\n",
       "      padding: 0 0 0 0;\n",
       "      width: 32px;\n",
       "    }\n",
       "\n",
       "    .colab-df-convert:hover {\n",
       "      background-color: #E2EBFA;\n",
       "      box-shadow: 0px 1px 2px rgba(60, 64, 67, 0.3), 0px 1px 3px 1px rgba(60, 64, 67, 0.15);\n",
       "      fill: #174EA6;\n",
       "    }\n",
       "\n",
       "    .colab-df-buttons div {\n",
       "      margin-bottom: 4px;\n",
       "    }\n",
       "\n",
       "    [theme=dark] .colab-df-convert {\n",
       "      background-color: #3B4455;\n",
       "      fill: #D2E3FC;\n",
       "    }\n",
       "\n",
       "    [theme=dark] .colab-df-convert:hover {\n",
       "      background-color: #434B5C;\n",
       "      box-shadow: 0px 1px 3px 1px rgba(0, 0, 0, 0.15);\n",
       "      filter: drop-shadow(0px 1px 2px rgba(0, 0, 0, 0.3));\n",
       "      fill: #FFFFFF;\n",
       "    }\n",
       "  </style>\n",
       "\n",
       "    <script>\n",
       "      const buttonEl =\n",
       "        document.querySelector('#df-234acd0e-9204-4399-b78a-786df21ba956 button.colab-df-convert');\n",
       "      buttonEl.style.display =\n",
       "        google.colab.kernel.accessAllowed ? 'block' : 'none';\n",
       "\n",
       "      async function convertToInteractive(key) {\n",
       "        const element = document.querySelector('#df-234acd0e-9204-4399-b78a-786df21ba956');\n",
       "        const dataTable =\n",
       "          await google.colab.kernel.invokeFunction('convertToInteractive',\n",
       "                                                    [key], {});\n",
       "        if (!dataTable) return;\n",
       "\n",
       "        const docLinkHtml = 'Like what you see? Visit the ' +\n",
       "          '<a target=\"_blank\" href=https://colab.research.google.com/notebooks/data_table.ipynb>data table notebook</a>'\n",
       "          + ' to learn more about interactive tables.';\n",
       "        element.innerHTML = '';\n",
       "        dataTable['output_type'] = 'display_data';\n",
       "        await google.colab.output.renderOutput(dataTable, element);\n",
       "        const docLink = document.createElement('div');\n",
       "        docLink.innerHTML = docLinkHtml;\n",
       "        element.appendChild(docLink);\n",
       "      }\n",
       "    </script>\n",
       "  </div>\n",
       "\n",
       "\n",
       "<div id=\"df-459ba558-191b-4d61-8a5b-fa56dfd2a383\">\n",
       "  <button class=\"colab-df-quickchart\" onclick=\"quickchart('df-459ba558-191b-4d61-8a5b-fa56dfd2a383')\"\n",
       "            title=\"Suggest charts\"\n",
       "            style=\"display:none;\">\n",
       "\n",
       "<svg xmlns=\"http://www.w3.org/2000/svg\" height=\"24px\"viewBox=\"0 0 24 24\"\n",
       "     width=\"24px\">\n",
       "    <g>\n",
       "        <path d=\"M19 3H5c-1.1 0-2 .9-2 2v14c0 1.1.9 2 2 2h14c1.1 0 2-.9 2-2V5c0-1.1-.9-2-2-2zM9 17H7v-7h2v7zm4 0h-2V7h2v10zm4 0h-2v-4h2v4z\"/>\n",
       "    </g>\n",
       "</svg>\n",
       "  </button>\n",
       "\n",
       "<style>\n",
       "  .colab-df-quickchart {\n",
       "      --bg-color: #E8F0FE;\n",
       "      --fill-color: #1967D2;\n",
       "      --hover-bg-color: #E2EBFA;\n",
       "      --hover-fill-color: #174EA6;\n",
       "      --disabled-fill-color: #AAA;\n",
       "      --disabled-bg-color: #DDD;\n",
       "  }\n",
       "\n",
       "  [theme=dark] .colab-df-quickchart {\n",
       "      --bg-color: #3B4455;\n",
       "      --fill-color: #D2E3FC;\n",
       "      --hover-bg-color: #434B5C;\n",
       "      --hover-fill-color: #FFFFFF;\n",
       "      --disabled-bg-color: #3B4455;\n",
       "      --disabled-fill-color: #666;\n",
       "  }\n",
       "\n",
       "  .colab-df-quickchart {\n",
       "    background-color: var(--bg-color);\n",
       "    border: none;\n",
       "    border-radius: 50%;\n",
       "    cursor: pointer;\n",
       "    display: none;\n",
       "    fill: var(--fill-color);\n",
       "    height: 32px;\n",
       "    padding: 0;\n",
       "    width: 32px;\n",
       "  }\n",
       "\n",
       "  .colab-df-quickchart:hover {\n",
       "    background-color: var(--hover-bg-color);\n",
       "    box-shadow: 0 1px 2px rgba(60, 64, 67, 0.3), 0 1px 3px 1px rgba(60, 64, 67, 0.15);\n",
       "    fill: var(--button-hover-fill-color);\n",
       "  }\n",
       "\n",
       "  .colab-df-quickchart-complete:disabled,\n",
       "  .colab-df-quickchart-complete:disabled:hover {\n",
       "    background-color: var(--disabled-bg-color);\n",
       "    fill: var(--disabled-fill-color);\n",
       "    box-shadow: none;\n",
       "  }\n",
       "\n",
       "  .colab-df-spinner {\n",
       "    border: 2px solid var(--fill-color);\n",
       "    border-color: transparent;\n",
       "    border-bottom-color: var(--fill-color);\n",
       "    animation:\n",
       "      spin 1s steps(1) infinite;\n",
       "  }\n",
       "\n",
       "  @keyframes spin {\n",
       "    0% {\n",
       "      border-color: transparent;\n",
       "      border-bottom-color: var(--fill-color);\n",
       "      border-left-color: var(--fill-color);\n",
       "    }\n",
       "    20% {\n",
       "      border-color: transparent;\n",
       "      border-left-color: var(--fill-color);\n",
       "      border-top-color: var(--fill-color);\n",
       "    }\n",
       "    30% {\n",
       "      border-color: transparent;\n",
       "      border-left-color: var(--fill-color);\n",
       "      border-top-color: var(--fill-color);\n",
       "      border-right-color: var(--fill-color);\n",
       "    }\n",
       "    40% {\n",
       "      border-color: transparent;\n",
       "      border-right-color: var(--fill-color);\n",
       "      border-top-color: var(--fill-color);\n",
       "    }\n",
       "    60% {\n",
       "      border-color: transparent;\n",
       "      border-right-color: var(--fill-color);\n",
       "    }\n",
       "    80% {\n",
       "      border-color: transparent;\n",
       "      border-right-color: var(--fill-color);\n",
       "      border-bottom-color: var(--fill-color);\n",
       "    }\n",
       "    90% {\n",
       "      border-color: transparent;\n",
       "      border-bottom-color: var(--fill-color);\n",
       "    }\n",
       "  }\n",
       "</style>\n",
       "\n",
       "  <script>\n",
       "    async function quickchart(key) {\n",
       "      const quickchartButtonEl =\n",
       "        document.querySelector('#' + key + ' button');\n",
       "      quickchartButtonEl.disabled = true;  // To prevent multiple clicks.\n",
       "      quickchartButtonEl.classList.add('colab-df-spinner');\n",
       "      try {\n",
       "        const charts = await google.colab.kernel.invokeFunction(\n",
       "            'suggestCharts', [key], {});\n",
       "      } catch (error) {\n",
       "        console.error('Error during call to suggestCharts:', error);\n",
       "      }\n",
       "      quickchartButtonEl.classList.remove('colab-df-spinner');\n",
       "      quickchartButtonEl.classList.add('colab-df-quickchart-complete');\n",
       "    }\n",
       "    (() => {\n",
       "      let quickchartButtonEl =\n",
       "        document.querySelector('#df-459ba558-191b-4d61-8a5b-fa56dfd2a383 button');\n",
       "      quickchartButtonEl.style.display =\n",
       "        google.colab.kernel.accessAllowed ? 'block' : 'none';\n",
       "    })();\n",
       "  </script>\n",
       "</div>\n",
       "\n",
       "    </div>\n",
       "  </div>\n"
      ],
      "text/plain": [
       "   day  hour  action  alertness  hypertension  intoxication  heart_attack  \\\n",
       "0    0     0       0   1.394465      0.114070           0.0             0   \n",
       "1    0     1       1   0.774357      0.067966           0.0             0   \n",
       "2    0     2       1   1.281268      0.040496           0.0             0   \n",
       "3    0     3       1   1.123732      0.024128           0.0             0   \n",
       "4    0     4       1   1.247691      0.014376           0.0             0   \n",
       "\n",
       "   accident    smoker  overweight  family_history  goof_ball  subject  \n",
       "0         0  0.671647    0.730691        0.322668   0.653565        0  \n",
       "1         0  0.671647    0.730691        0.322668   0.653565        0  \n",
       "2         0  0.671647    0.730691        0.322668   0.653565        0  \n",
       "3         0  0.671647    0.730691        0.322668   0.653565        0  \n",
       "4         0  0.671647    0.730691        0.322668   0.653565        0  "
      ]
     },
     "execution_count": 109,
     "metadata": {},
     "output_type": "execute_result"
    }
   ],
   "source": [
    "df.head()"
   ]
  },
  {
   "cell_type": "markdown",
   "metadata": {
    "id": "LWs-50wJfWth"
   },
   "source": [
    "# Reading the testing data"
   ]
  },
  {
   "cell_type": "markdown",
   "metadata": {
    "id": "RVPeVA2yHvxu"
   },
   "source": [
    "After training our models for predictions, now we need to test them on data that they were not trained on. To do so, we are using another dataset provided to us.\n",
    "**Firstly, we try to load this data into a dataframe.**"
   ]
  },
  {
   "cell_type": "code",
   "execution_count": null,
   "metadata": {
    "id": "b0WVOXbz1D6o"
   },
   "outputs": [],
   "source": [
    "# Convert to df\n",
    "test_df = pd.read_excel('/content/set3_500_patients.xlsx', engine='openpyxl')"
   ]
  },
  {
   "cell_type": "markdown",
   "metadata": {
    "id": "RizVFELKfda5"
   },
   "source": [
    "## Formatting the test data"
   ]
  },
  {
   "cell_type": "markdown",
   "metadata": {
    "id": "5KrBtmCwIFwv"
   },
   "source": [
    "The test data is in the same format as the training data, therefore, we need to apply our formattings from training to this dataset as well."
   ]
  },
  {
   "cell_type": "code",
   "execution_count": null,
   "metadata": {
    "id": "sWXBTY_b3w0C"
   },
   "outputs": [],
   "source": [
    "# Apply the mapping to the 'action' column\n",
    "test_df['action'] = test_df['action'].map(action_mapping)\n",
    "\n",
    "test_df = test_df.drop('Unnamed: 0', axis=1)\n",
    "\n",
    "# Convert boolean columns to 0 and 1\n",
    "boolean_columns = ['accident', 'heart_attack']\n",
    "for col in boolean_columns:\n",
    "  test_df[col] = test_df[col].apply(lambda x: 1 if x == True else 0)"
   ]
  },
  {
   "cell_type": "code",
   "execution_count": null,
   "metadata": {
    "colab": {
     "base_uri": "https://localhost:8080/"
    },
    "id": "K7G6JJLoBQGj",
    "outputId": "a6dc8f12-fd4c-4de2-cef4-79c60bc04ae9"
   },
   "outputs": [
    {
     "data": {
      "text/plain": [
       "array([0, 1])"
      ]
     },
     "execution_count": 217,
     "metadata": {},
     "output_type": "execute_result"
    }
   ],
   "source": [
    "test_df['heart_attack'].unique()"
   ]
  },
  {
   "cell_type": "markdown",
   "metadata": {
    "id": "mAwgzG16dGON"
   },
   "source": [
    "## Separate features (X) and target variables (y)"
   ]
  },
  {
   "cell_type": "markdown",
   "metadata": {
    "id": "n2tDTji_dJa3"
   },
   "source": [
    "After we formatted the data in our desired format, we need to seperate the features (X) from the target labels (y) we are trying to predict. To do so, we drop the columns heart attack and accident from the features and add them to another dataframe that we use for target labels."
   ]
  },
  {
   "cell_type": "code",
   "execution_count": null,
   "metadata": {
    "id": "vo4pTaXodKDo"
   },
   "outputs": [],
   "source": [
    "X_train = df.drop(['heart_attack', 'accident'], axis=1)\n",
    "y_heart_attack = df['heart_attack']\n",
    "y_accident = df['accident']"
   ]
  },
  {
   "cell_type": "markdown",
   "metadata": {
    "id": "MIKoeevHfnHy"
   },
   "source": [
    "## Separate features (X) and target variable (y) for the test dataset"
   ]
  },
  {
   "cell_type": "code",
   "execution_count": null,
   "metadata": {
    "id": "771mxZUS4X7n"
   },
   "outputs": [],
   "source": [
    "X_test = test_df.drop(['heart_attack', 'accident'], axis=1)\n",
    "y_heart_attack_test = test_df['heart_attack']\n",
    "y_accident_test = test_df['accident']"
   ]
  },
  {
   "cell_type": "markdown",
   "metadata": {
    "id": "4oZ_TQwrdBcL"
   },
   "source": [
    "# Training the model"
   ]
  },
  {
   "cell_type": "markdown",
   "metadata": {
    "id": "OlDQjO-sd2FL"
   },
   "source": [
    "## Training the model using Logistic Regression\n",
    "Now, we can use the sklearn library, to use their models to train our model. For the inputs we need to first pick the number of iterations we need to do, and also as an optional parameter, we can set a random state to make the model use randomization when training, to eliminate possible biases coming from the positions of the training data. Afterwards, we give the training features and label and using the model.fit() function, we let the model start training."
   ]
  },
  {
   "cell_type": "markdown",
   "metadata": {
    "id": "kYhBEMVMfRhd"
   },
   "source": [
    "## Train the model for heart_attack"
   ]
  },
  {
   "cell_type": "markdown",
   "metadata": {
    "id": "TjQuk_9yHJML"
   },
   "source": [
    "Since we want to predict heart attacks and accidents, we use logistic regression models for each one."
   ]
  },
  {
   "cell_type": "code",
   "execution_count": null,
   "metadata": {
    "colab": {
     "base_uri": "https://localhost:8080/"
    },
    "id": "J26PfOGP03VE",
    "outputId": "c3ebc73a-dd1f-47b0-d217-4001683a6acf"
   },
   "outputs": [
    {
     "name": "stdout",
     "output_type": "stream",
     "text": [
      "Accuracy for heart_attack: 0.9989798439248397\n",
      "Accuracy for accident: 0.9939342856727653\n"
     ]
    }
   ],
   "source": [
    "# Example using Logistic Regression for heart_attack\n",
    "from sklearn.linear_model import LogisticRegression\n",
    "\n",
    "# Create a Logistic Regression model for heart_attack\n",
    "model_heart_attack = LogisticRegression(max_iter=1000, random_state=42)\n",
    "\n",
    "# Train the model\n",
    "model_heart_attack.fit(X_train, y_heart_attack)\n",
    "\n",
    "# Make predictions for heart_attack\n",
    "predictions_heart_attack = model_heart_attack.predict(X_train)"
   ]
  },
  {
   "cell_type": "markdown",
   "metadata": {
    "id": "2AZ2aeSXfIsn"
   },
   "source": [
    "## Evaluate the model for heart_attack"
   ]
  },
  {
   "cell_type": "markdown",
   "metadata": {
    "id": "meFwqN3KHU5N"
   },
   "source": [
    "Using the sklearn library, we check the accuracy of our model on the training data. We usually expect this number to be very significant ( >95%) since we used this data to fit our model."
   ]
  },
  {
   "cell_type": "code",
   "execution_count": null,
   "metadata": {
    "id": "B3BCMroVeyy_"
   },
   "outputs": [],
   "source": [
    "from sklearn.metrics import accuracy_score\n",
    "accuracy_heart_attack = accuracy_score(y_heart_attack, predictions_heart_attack)\n",
    "print(f\"Accuracy for heart_attack: {accuracy_heart_attack}\")"
   ]
  },
  {
   "cell_type": "markdown",
   "metadata": {
    "id": "DZZ4TvbffOKC"
   },
   "source": [
    "## Train the model for accident"
   ]
  },
  {
   "cell_type": "code",
   "execution_count": null,
   "metadata": {
    "id": "Wj-sPfLXe9Td"
   },
   "outputs": [],
   "source": [
    "# Create a Logistic Regression model for accident\n",
    "model_accident = LogisticRegression(max_iter=1000, random_state=42)\n",
    "\n",
    "# Train the model\n",
    "model_accident.fit(X_train, y_accident)\n",
    "\n",
    "# Make predictions for accident\n",
    "predictions_accident = model_accident.predict(X_train)"
   ]
  },
  {
   "cell_type": "markdown",
   "metadata": {
    "id": "uYxlne0UfLWH"
   },
   "source": [
    "## Evaluate the model for accident"
   ]
  },
  {
   "cell_type": "code",
   "execution_count": null,
   "metadata": {
    "id": "OmdUp0JQfBJA"
   },
   "outputs": [],
   "source": [
    "accuracy_accident = accuracy_score(y_accident, predictions_accident)\n",
    "print(f\"Accuracy for accident: {accuracy_accident}\")"
   ]
  },
  {
   "cell_type": "markdown",
   "metadata": {
    "id": "VRWGKEAGfwq5"
   },
   "source": [
    "# Predicting the labels for the test data"
   ]
  },
  {
   "cell_type": "code",
   "execution_count": null,
   "metadata": {
    "id": "Ms22Biav4eDN"
   },
   "outputs": [],
   "source": [
    "# Make predictions on the test dataset\n",
    "heart_attack_predictions = model_accident.predict(X_test)\n",
    "accident_predictions = model_heart_attack.predict(X_test)"
   ]
  },
  {
   "cell_type": "code",
   "execution_count": null,
   "metadata": {
    "colab": {
     "base_uri": "https://localhost:8080/"
    },
    "id": "56Fheny--LJE",
    "outputId": "9f329698-1fd9-4f40-8733-b57f3414b242"
   },
   "outputs": [
    {
     "name": "stdout",
     "output_type": "stream",
     "text": [
      "Accuracy for accident: 0.9657260133401745\n",
      "Accuracy for heart_attack: 0.9947782745730411\n"
     ]
    }
   ],
   "source": [
    "accuracy_accident = accuracy_score(y_accident_test, accident_predictions)\n",
    "print(f\"Accuracy for accident: {accuracy_accident}\")\n",
    "\n",
    "accuracy_heart_attack = accuracy_score(y_heart_attack_test, heart_attack_predictions)\n",
    "print(f\"Accuracy for heart_attack: {accuracy_heart_attack}\")"
   ]
  },
  {
   "cell_type": "markdown",
   "metadata": {
    "id": "6FBK2Gpuq0hO"
   },
   "source": [
    "## Accuracy Analysis\n",
    "The performance of the model on the test data is the following:\n",
    "\n",
    "**For Heart Attack:** **96.57%**\n",
    "\n",
    "**For Accident:** **99.47%**"
   ]
  },
  {
   "cell_type": "code",
   "execution_count": null,
   "metadata": {
    "id": "3KXZdxe3DnsY"
   },
   "outputs": [],
   "source": [
    "from sklearn.metrics import confusion_matrix, ConfusionMatrixDisplay, accuracy_score\n",
    "import matplotlib.pyplot as plt"
   ]
  },
  {
   "cell_type": "markdown",
   "metadata": {
    "id": "kAVWLWHhf4-K"
   },
   "source": [
    "# Results"
   ]
  },
  {
   "cell_type": "markdown",
   "metadata": {
    "id": "BerAfJEzf7GF"
   },
   "source": [
    "## Visualization using confusion matrix"
   ]
  },
  {
   "cell_type": "markdown",
   "metadata": {
    "id": "ZeD_pad8IVtk"
   },
   "source": [
    "Using confusion matrixes, we can visualize how our model performs. Since we try to improve accuracy, we want the number of **False Negatives (FN)** and **False Positives (FP)** to be as low as possible."
   ]
  },
  {
   "cell_type": "markdown",
   "metadata": {
    "id": "dKtSnWjbgCMS"
   },
   "source": [
    "### Confusion Matrix for accident predictions"
   ]
  },
  {
   "cell_type": "code",
   "execution_count": null,
   "metadata": {
    "colab": {
     "base_uri": "https://localhost:8080/",
     "height": 472
    },
    "id": "Jp7Pst2JDTF6",
    "outputId": "8bccfbea-e23e-446f-b84f-d256f0bbd1e5"
   },
   "outputs": [
    {
     "data": {
      "image/png": "[encoded data removed]",
      "text/plain": [
       "<Figure size 640x480 with 2 Axes>"
      ]
     },
     "metadata": {},
     "output_type": "display_data"
    }
   ],
   "source": [
    "cm_accident = confusion_matrix(y_accident_test, accident_predictions)\n",
    "disp_accident = ConfusionMatrixDisplay(confusion_matrix=cm_accident, display_labels=['No Accident', 'Accident'])\n",
    "disp_accident.plot(cmap=plt.cm.Blues)\n",
    "plt.title('Confusion Matrix for Accident Prediction')\n",
    "plt.show()"
   ]
  },
  {
   "cell_type": "markdown",
   "metadata": {
    "id": "LfCCNmY6gEcg"
   },
   "source": [
    "### Confusion Matrix for heart attack predictions"
   ]
  },
  {
   "cell_type": "code",
   "execution_count": null,
   "metadata": {
    "colab": {
     "base_uri": "https://localhost:8080/",
     "height": 472
    },
    "id": "OB7r1HmdDbX9",
    "outputId": "677ee6d4-ccc1-4433-d4e7-7fd45a8a4684"
   },
   "outputs": [
    {
     "data": {
      "image/png": "[encoded data removed]",
      "text/plain": [
       "<Figure size 640x480 with 2 Axes>"
      ]
     },
     "metadata": {},
     "output_type": "display_data"
    }
   ],
   "source": [
    "cm_heart_attack = confusion_matrix(y_heart_attack_test, heart_attack_predictions)\n",
    "disp_heart_attack = ConfusionMatrixDisplay(confusion_matrix=cm_heart_attack, display_labels=['No Heart Attack', 'Heart Attack'])\n",
    "disp_heart_attack.plot(cmap=plt.cm.Blues)\n",
    "plt.title('Confusion Matrix for Heart Attack Prediction')\n",
    "plt.show()"
   ]
  },
  {
   "cell_type": "markdown",
   "metadata": {
    "id": "KsYXPT1OIyh1"
   },
   "source": [
    "# Improving models generalizations\n",
    "## Limitation:\n",
    "Our model does remarkably good in accuracies. Usually, we don't expect our model to be able to get such a good accuracy on a seemingly dificult task. One observation that we can make is that, the number of No labeled **heart attack/accidents** are much more than the Yes labeled ones. This means that the model can perform extremely well by just outputing **No**. This is a potential bias in our data.\n",
    "\n",
    "## Solution:\n",
    "One way that we can address this issue, is to reduce the number of No labels in our training data, and therefore, making our model more prone to generalize.\n",
    "\n",
    "Another approach would be to syntethically generate more Yes labeled data. [This approach does not work as well as the first approach based on the accuracies observed.]"
   ]
  },
  {
   "cell_type": "markdown",
   "metadata": {
    "id": "ari6qBc7LAoA"
   },
   "source": [
    "## SMOTEENN Technique\n",
    "**SMOTE (Synthetic Minority Oversampling Technique):**\n",
    "   SMOTE generates synthetic samples for the minority class (the class with fewer instances) to make the dataset more balanced. It does this by selecting instances from the minority class and generating new synthetic instances along the line between two or more of the nearest neighbors of that instance.\n",
    "\n",
    "**ENN (Edited Nearest Neighbors):**\n",
    "   After applying SMOTE, ENN is used to clean the dataset by removing noisy or misclassified points. It works by removing examples that do not agree with the majority class of their nearest neighbors."
   ]
  },
  {
   "cell_type": "code",
   "execution_count": null,
   "metadata": {
    "id": "joONY7yZHLFu"
   },
   "outputs": [],
   "source": [
    "from imblearn.combine import SMOTEENN\n",
    "\n",
    "smote_enn = SMOTEENN(random_state=42)\n",
    "X_resampled, y_resampled = smote_enn.fit_resample(X_train, y_heart_attack)"
   ]
  },
  {
   "cell_type": "code",
   "execution_count": null,
   "metadata": {
    "id": "0nY7AYLtLLmw"
   },
   "outputs": [],
   "source": [
    "# Separate the majority and minority classes\n",
    "X_train_no = X_train[y_heart_attack == 0]  # Subset where label is \"No\"\n",
    "X_train_yes = X_train[y_heart_attack == 1]  # Subset where label is \"Yes\"\n",
    "\n",
    "y_train_no = y_heart_attack[y_heart_attack == 0]\n",
    "y_train_yes = y_heart_attack[y_heart_attack == 1]"
   ]
  },
  {
   "cell_type": "code",
   "execution_count": null,
   "metadata": {
    "colab": {
     "base_uri": "https://localhost:8080/"
    },
    "id": "6N_LBKdfLUA-",
    "outputId": "704bbff3-41ca-4ce1-9711-25c3ece7b5a4"
   },
   "outputs": [
    {
     "name": "stdout",
     "output_type": "stream",
     "text": [
      "596\n"
     ]
    }
   ],
   "source": [
    "num_yes = len(y_train_yes)\n",
    "print(num_yes)"
   ]
  },
  {
   "cell_type": "markdown",
   "metadata": {
    "id": "h5zcd5iwLJKo"
   },
   "source": [
    "We create all cases with a label \"Yes\" and we create 15 correspoding \"No\" labeled data for each one. This makes the \"Yes\" labeled data more significant than before."
   ]
  },
  {
   "cell_type": "code",
   "execution_count": null,
   "metadata": {
    "id": "V10BYxocLbEE"
   },
   "outputs": [],
   "source": [
    "from sklearn.utils import shuffle\n",
    "\n",
    "# Randomly sample from the majority class to match the number of \"Yes\" labels\n",
    "X_train_no_sampled = X_train_no.sample(n=num_yes * 15, random_state=42)\n",
    "y_train_no_sampled = y_train_no.sample(n=num_yes * 15, random_state=42)\n",
    "\n",
    "# Concatenate the sampled majority class with the minority class\n",
    "X_train_balanced = pd.concat([X_train_no_sampled, X_train_yes])\n",
    "y_train_balanced = pd.concat([y_train_no_sampled, y_train_yes])\n",
    "\n",
    "# Shuffle the dataset to mix the \"Yes\" and \"No\" labels\n",
    "X_train_balanced, y_train_balanced = shuffle(X_train_balanced, y_train_balanced, random_state=42)"
   ]
  },
  {
   "cell_type": "code",
   "execution_count": null,
   "metadata": {
    "colab": {
     "base_uri": "https://localhost:8080/"
    },
    "id": "vUKdzPeiFFLj",
    "outputId": "d80d9cee-38cb-4b93-a210-85350c2f2bc5"
   },
   "outputs": [
    {
     "name": "stdout",
     "output_type": "stream",
     "text": [
      "Accuracy for heart_attack: 0.9972734899328859\n"
     ]
    }
   ],
   "source": [
    "# Example using Logistic Regression for heart_attack\n",
    "from sklearn.linear_model import LogisticRegression\n",
    "\n",
    "# Create a Logistic Regression model for heart_attack\n",
    "model_heart_attack = LogisticRegression(max_iter=10000, random_state=42)\n",
    "\n",
    "# Train the model\n",
    "model_heart_attack.fit(X_train_balanced, y_train_balanced)\n",
    "y_probs = model_heart_attack.predict_proba(X_train_balanced)[:, 1]  # Probabilities for the positive class\n",
    "\n",
    "# Make predictions for heart_attack\n",
    "predictions_heart_attack = model_heart_attack.predict(X_train_balanced)\n",
    "\n",
    "# Evaluate the model for heart_attack\n",
    "from sklearn.metrics import accuracy_score\n",
    "accuracy_heart_attack = accuracy_score(y_train_balanced, predictions_heart_attack)\n",
    "print(f\"Accuracy for heart_attack: {accuracy_heart_attack}\")"
   ]
  },
  {
   "cell_type": "markdown",
   "metadata": {
    "id": "c-eSzKJiLcei"
   },
   "source": [
    "# Final Visualizations"
   ]
  },
  {
   "cell_type": "markdown",
   "metadata": {
    "id": "ArwPeNwvLfuG"
   },
   "source": [
    "Finaly, our model learns to generalize much better than before and in addition, we reduced the rate of **False Negatives**. This means that when someone is expected to have a heart attack, we usually do pretty good, and we might sometimes be overconfident when saying Yes. This is much better than having a high **False Negative**."
   ]
  },
  {
   "cell_type": "code",
   "execution_count": null,
   "metadata": {
    "colab": {
     "base_uri": "https://localhost:8080/",
     "height": 472
    },
    "id": "sMKI2TqwF1be",
    "outputId": "e91f8faf-2cdc-4d93-9d74-df4d09f509c7"
   },
   "outputs": [
    {
     "data": {
      "image/png": "[encoded data removed]",
      "text/plain": [
       "<Figure size 640x480 with 2 Axes>"
      ]
     },
     "metadata": {},
     "output_type": "display_data"
    }
   ],
   "source": [
    "# Confusion Matrix for heart attack predictions\n",
    "cm_heart_attack = confusion_matrix(y_train_balanced, predictions_heart_attack)\n",
    "disp_heart_attack = ConfusionMatrixDisplay(confusion_matrix=cm_heart_attack, display_labels=['No Heart Attack', 'Heart Attack'])\n",
    "disp_heart_attack.plot(cmap=plt.cm.Blues)\n",
    "plt.title('Confusion Matrix for Heart Attack Prediction')\n",
    "plt.show()"
   ]
  },
  {
   "cell_type": "markdown",
   "metadata": {
    "id": "zIM0ycMdrS6S"
   },
   "source": [
    "Now the model does pretty good on heart attack predictions whether the answer is Yes or No."
   ]
  },
  {
   "cell_type": "code",
   "execution_count": null,
   "metadata": {
    "colab": {
     "base_uri": "https://localhost:8080/"
    },
    "id": "WHDaivJWItUo",
    "outputId": "4e428787-4767-41c4-b1d9-a3513b9821e4"
   },
   "outputs": [
    {
     "name": "stdout",
     "output_type": "stream",
     "text": [
      "Accuracy for heart_attack: 0.9948046617312908\n"
     ]
    }
   ],
   "source": [
    "# Make predictions on the test dataset\n",
    "heart_attack_predictions = model_heart_attack.predict(X_test)\n",
    "\n",
    "accuracy_heart_attack = accuracy_score(y_heart_attack_test, heart_attack_predictions)\n",
    "print(f\"Accuracy for heart_attack: {accuracy_heart_attack}\")\n"
   ]
  },
  {
   "cell_type": "code",
   "execution_count": null,
   "metadata": {
    "colab": {
     "base_uri": "https://localhost:8080/",
     "height": 472
    },
    "id": "_vtmdT7yMCrz",
    "outputId": "e9943577-0d08-4683-9b04-cdf1bd3d0eb6"
   },
   "outputs": [
    {
     "data": {
      "image/png": "[encoded data removed]",
      "text/plain": [
       "<Figure size 640x480 with 2 Axes>"
      ]
     },
     "metadata": {},
     "output_type": "display_data"
    }
   ],
   "source": [
    "# Confusion Matrix for heart attack predictions\n",
    "cm_heart_attack = confusion_matrix(y_heart_attack_test, heart_attack_predictions)\n",
    "disp_heart_attack = ConfusionMatrixDisplay(confusion_matrix=cm_heart_attack, display_labels=['No Heart Attack', 'Heart Attack'])\n",
    "disp_heart_attack.plot(cmap=plt.cm.Blues)\n",
    "plt.title('Confusion Matrix for Heart Attack Prediction')\n",
    "plt.show()"
   ]
  },
  {
   "cell_type": "code",
   "execution_count": null,
   "metadata": {
    "colab": {
     "base_uri": "https://localhost:8080/",
     "height": 472
    },
    "id": "FGcrHcuAO7Jn",
    "outputId": "99eaba6d-5634-4d68-d868-29cd8487669e"
   },
   "outputs": [
    {
     "data": {
      "image/png": "[encoded data removed]",
      "text/plain": [
       "<Figure size 640x480 with 1 Axes>"
      ]
     },
     "metadata": {},
     "output_type": "display_data"
    }
   ],
   "source": [
    "import matplotlib.pyplot as plt\n",
    "import numpy as np\n",
    "\n",
    "def custom_calibration_curve(y_true, y_prob, n_bins=10):\n",
    "    bins = np.linspace(0, 1, n_bins + 1)\n",
    "    bin_centers = (bins[:-1] + bins[1:]) / 2\n",
    "    bin_true = np.zeros(n_bins)\n",
    "    bin_pred = np.zeros(n_bins)\n",
    "\n",
    "    for i in range(n_bins):\n",
    "        bin_mask = (y_prob >= bins[i]) & (y_prob < bins[i + 1])\n",
    "        bin_true[i] = y_true[bin_mask].mean() if bin_mask.any() else 0\n",
    "        bin_pred[i] = bin_centers[i]\n",
    "\n",
    "    return bin_pred, bin_true\n",
    "\n",
    "# Assuming y_train_balanced and y_probs have been defined\n",
    "bin_pred, bin_true = custom_calibration_curve(y_train_balanced, y_probs)\n",
    "\n",
    "plt.plot(bin_pred, bin_true, marker='o', label='Logistic Regression')\n",
    "plt.plot([0, 1], [0, 1], linestyle='--', label='Perfectly Calibrated')\n",
    "plt.xlabel('Mean Predicted Probability')\n",
    "plt.ylabel('Fraction of Positives')\n",
    "plt.title('Custom Calibration Curve')\n",
    "plt.legend()\n",
    "plt.show()"
   ]
  }
 ],
 "metadata": {
  "colab": {
   "collapsed_sections": [
    "1WOlEXCjkVQ0",
    "QC2P2dOpBzsN"
   ],
   "provenance": []
  },
  "kernelspec": {
   "display_name": "Python 3 (ipykernel)",
   "language": "python",
   "name": "python3"
  },
  "language_info": {
   "codemirror_mode": {
    "name": "ipython",
    "version": 3
   },
   "file_extension": ".py",
   "mimetype": "text/x-python",
   "name": "python",
   "nbconvert_exporter": "python",
   "pygments_lexer": "ipython3",
   "version": "3.8.8"
  }
 },
 "nbformat": 4,
 "nbformat_minor": 1
}
